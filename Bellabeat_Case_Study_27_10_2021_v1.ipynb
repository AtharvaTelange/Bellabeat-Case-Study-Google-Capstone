{
  "nbformat": 4,
  "nbformat_minor": 0,
  "metadata": {
    "colab": {
      "name": "Bellabeat_Case_Study_27_10_2021_v1.ipynb",
      "provenance": [],
      "collapsed_sections": []
    },
    "kernelspec": {
      "name": "python3",
      "display_name": "Python 3"
    },
    "language_info": {
      "name": "python"
    }
  },
  "cells": [
    {
      "cell_type": "markdown",
      "metadata": {
        "id": "S8kb1Doc0k4X"
      },
      "source": [
        "## Google Capstone Project : How Can a Wellness Technology Company Play It Smart?"
      ]
    },
    {
      "cell_type": "markdown",
      "metadata": {
        "id": "DDxVDgCu3KHG"
      },
      "source": [
        "## ASK "
      ]
    },
    {
      "cell_type": "markdown",
      "metadata": {
        "id": "NinuFEdR-sD2"
      },
      "source": [
        "1. How non Bellabeat users use smart devices (find trends)?\n",
        "2. How to apply these trends in Bellabeat products?\n",
        "3. Recommend strategies to market product?\n",
        "\n",
        "<strong>Business Task: Using data to influence market strategy</strong>\n"
      ]
    },
    {
      "cell_type": "markdown",
      "metadata": {
        "id": "zIiupgPMAQUB"
      },
      "source": [
        "## PREPARE\n",
        "\n",
        "1. Where is your data stored?\n",
        "<p>Ans: Kaggle\n",
        "\n",
        "2. How is the data organised?\n",
        "<p>Ans: In both formats: Wide and Long\n",
        "\n",
        "3. Are there any issues with bias or credibility in this data? (Is data ROCCC)\n",
        "<p>Ans: Reliable: No, as data has low number of users\n",
        "     <p>Original: No, as it is from third party sources\n",
        "     <p>Cited: Yes\n",
        "     <p>Comprehensible: Some match with Bellabeat features\n",
        "     <p>Current: No, as it is from 2016 but will not affect grealy with user habits  in 2021\n",
        "\n",
        "4. Are there any problems with the data?\n",
        "<p>Ans: Data cannot be use for any business recommendation as it is not ROCCC.\n",
        "\n"
      ]
    },
    {
      "cell_type": "code",
      "metadata": {
        "id": "r9qoEezZ0Nky"
      },
      "source": [
        "#importing packages\n",
        "import pandas as pd\n",
        "import numpy as np\n",
        "import matplotlib.pyplot as plt\n",
        "import ipywidgets as widgets\n",
        "import plotly.express as px"
      ],
      "execution_count": 39,
      "outputs": []
    },
    {
      "cell_type": "code",
      "metadata": {
        "id": "i33A3uD-1RpF"
      },
      "source": [
        "#import csv files\n",
        "daily_activity_df = pd.read_csv(\"/content/drive/MyDrive/Fitness Tracker Capstone/dailyActivity_merged.csv\")\n",
        "heartrate_df = pd.read_csv(\"/content/drive/MyDrive/Fitness Tracker Capstone/heartrate_seconds_merged.csv\")\n",
        "sleepday_df = pd.read_csv(\"/content/drive/MyDrive/Fitness Tracker Capstone/sleepDay_merged.csv\")\n",
        "hourly_calories_df = pd.read_csv(\"/content/drive/MyDrive/Fitness Tracker Capstone/hourlyCalories_merged.csv\")\n",
        "hourly_steps_df = pd.read_csv(\"/content/drive/MyDrive/Fitness Tracker Capstone/hourlySteps_merged.csv\")\n",
        "hourly_intensities_df = pd.read_csv(\"/content/drive/MyDrive/Fitness Tracker Capstone/hourlyIntensities_merged.csv\")\n",
        "minute_calories_df = pd.read_csv(\"/content/drive/MyDrive/Fitness Tracker Capstone/minuteCaloriesNarrow_merged.csv\")\n",
        "minute_intensities_df = pd.read_csv(\"/content/drive/MyDrive/Fitness Tracker Capstone/minuteIntensitiesNarrow_merged.csv\")\n",
        "minute_sleep_df = pd.read_csv(\"/content/drive/MyDrive/Fitness Tracker Capstone/minuteSleep_merged.csv\")\n",
        "minute_steps_df = pd.read_csv(\"/content/drive/MyDrive/Fitness Tracker Capstone/minuteStepsNarrow_merged.csv\")\n",
        "minute_MET_df = pd.read_csv(\"/content/drive/MyDrive/Fitness Tracker Capstone/minuteMETsNarrow_merged.csv\")\n",
        "weight_log = pd.read_csv(\"/content/drive/MyDrive/Fitness Tracker Capstone/weightLogInfo_merged.csv\")\n",
        "dataframe_list = [daily_activity_df, heartrate_df, sleepday_df, hourly_calories_df, hourly_steps_df, hourly_intensities_df\n",
        "                  , minute_calories_df, minute_intensities_df, minute_sleep_df, minute_steps_df, minute_MET_df, weight_log]\n",
        "dataframe_name_list = [\"daily_activity_df\", \"heartrate_df\", \"sleepday_df\", \"hourly_calories_df\", \"hourly_steps_df\", \"hourly_intensities_df\"\n",
        "                  , \"minute_calories_df\", \"minute_intensities_df\", \"minute_sleep_df\", \"minute_steps_df\", \"minute_MET_df\", \"weight_log\"]"
      ],
      "execution_count": 25,
      "outputs": []
    },
    {
      "cell_type": "code",
      "metadata": {
        "colab": {
          "base_uri": "https://localhost:8080/",
          "height": 1000
        },
        "id": "4iAtSHN8NRv0",
        "outputId": "cdaeba7a-9e0b-4ae8-a8e9-e5613e0ca034"
      },
      "source": [
        "#Viewing the dataframes\n",
        "for i, en in enumerate(dataframe_list):\n",
        "  print(\"For Dataframe\",dataframe_name_list[i])\n",
        "  display(en.head())\n",
        "  print()\n",
        "  print()"
      ],
      "execution_count": 26,
      "outputs": [
        {
          "output_type": "stream",
          "name": "stdout",
          "text": [
            "For Dataframe daily_activity_df\n"
          ]
        },
        {
          "output_type": "display_data",
          "data": {
            "text/html": [
              "<div>\n",
              "<style scoped>\n",
              "    .dataframe tbody tr th:only-of-type {\n",
              "        vertical-align: middle;\n",
              "    }\n",
              "\n",
              "    .dataframe tbody tr th {\n",
              "        vertical-align: top;\n",
              "    }\n",
              "\n",
              "    .dataframe thead th {\n",
              "        text-align: right;\n",
              "    }\n",
              "</style>\n",
              "<table border=\"1\" class=\"dataframe\">\n",
              "  <thead>\n",
              "    <tr style=\"text-align: right;\">\n",
              "      <th></th>\n",
              "      <th>Id</th>\n",
              "      <th>ActivityDate</th>\n",
              "      <th>TotalSteps</th>\n",
              "      <th>TotalDistance</th>\n",
              "      <th>TrackerDistance</th>\n",
              "      <th>LoggedActivitiesDistance</th>\n",
              "      <th>VeryActiveDistance</th>\n",
              "      <th>ModeratelyActiveDistance</th>\n",
              "      <th>LightActiveDistance</th>\n",
              "      <th>SedentaryActiveDistance</th>\n",
              "      <th>VeryActiveMinutes</th>\n",
              "      <th>FairlyActiveMinutes</th>\n",
              "      <th>LightlyActiveMinutes</th>\n",
              "      <th>SedentaryMinutes</th>\n",
              "      <th>Calories</th>\n",
              "    </tr>\n",
              "  </thead>\n",
              "  <tbody>\n",
              "    <tr>\n",
              "      <th>0</th>\n",
              "      <td>1503960366</td>\n",
              "      <td>4/12/2016</td>\n",
              "      <td>13162</td>\n",
              "      <td>8.50</td>\n",
              "      <td>8.50</td>\n",
              "      <td>0.0</td>\n",
              "      <td>1.88</td>\n",
              "      <td>0.55</td>\n",
              "      <td>6.06</td>\n",
              "      <td>0.0</td>\n",
              "      <td>25</td>\n",
              "      <td>13</td>\n",
              "      <td>328</td>\n",
              "      <td>728</td>\n",
              "      <td>1985</td>\n",
              "    </tr>\n",
              "    <tr>\n",
              "      <th>1</th>\n",
              "      <td>1503960366</td>\n",
              "      <td>4/13/2016</td>\n",
              "      <td>10735</td>\n",
              "      <td>6.97</td>\n",
              "      <td>6.97</td>\n",
              "      <td>0.0</td>\n",
              "      <td>1.57</td>\n",
              "      <td>0.69</td>\n",
              "      <td>4.71</td>\n",
              "      <td>0.0</td>\n",
              "      <td>21</td>\n",
              "      <td>19</td>\n",
              "      <td>217</td>\n",
              "      <td>776</td>\n",
              "      <td>1797</td>\n",
              "    </tr>\n",
              "    <tr>\n",
              "      <th>2</th>\n",
              "      <td>1503960366</td>\n",
              "      <td>4/14/2016</td>\n",
              "      <td>10460</td>\n",
              "      <td>6.74</td>\n",
              "      <td>6.74</td>\n",
              "      <td>0.0</td>\n",
              "      <td>2.44</td>\n",
              "      <td>0.40</td>\n",
              "      <td>3.91</td>\n",
              "      <td>0.0</td>\n",
              "      <td>30</td>\n",
              "      <td>11</td>\n",
              "      <td>181</td>\n",
              "      <td>1218</td>\n",
              "      <td>1776</td>\n",
              "    </tr>\n",
              "    <tr>\n",
              "      <th>3</th>\n",
              "      <td>1503960366</td>\n",
              "      <td>4/15/2016</td>\n",
              "      <td>9762</td>\n",
              "      <td>6.28</td>\n",
              "      <td>6.28</td>\n",
              "      <td>0.0</td>\n",
              "      <td>2.14</td>\n",
              "      <td>1.26</td>\n",
              "      <td>2.83</td>\n",
              "      <td>0.0</td>\n",
              "      <td>29</td>\n",
              "      <td>34</td>\n",
              "      <td>209</td>\n",
              "      <td>726</td>\n",
              "      <td>1745</td>\n",
              "    </tr>\n",
              "    <tr>\n",
              "      <th>4</th>\n",
              "      <td>1503960366</td>\n",
              "      <td>4/16/2016</td>\n",
              "      <td>12669</td>\n",
              "      <td>8.16</td>\n",
              "      <td>8.16</td>\n",
              "      <td>0.0</td>\n",
              "      <td>2.71</td>\n",
              "      <td>0.41</td>\n",
              "      <td>5.04</td>\n",
              "      <td>0.0</td>\n",
              "      <td>36</td>\n",
              "      <td>10</td>\n",
              "      <td>221</td>\n",
              "      <td>773</td>\n",
              "      <td>1863</td>\n",
              "    </tr>\n",
              "  </tbody>\n",
              "</table>\n",
              "</div>"
            ],
            "text/plain": [
              "           Id ActivityDate  ...  SedentaryMinutes  Calories\n",
              "0  1503960366    4/12/2016  ...               728      1985\n",
              "1  1503960366    4/13/2016  ...               776      1797\n",
              "2  1503960366    4/14/2016  ...              1218      1776\n",
              "3  1503960366    4/15/2016  ...               726      1745\n",
              "4  1503960366    4/16/2016  ...               773      1863\n",
              "\n",
              "[5 rows x 15 columns]"
            ]
          },
          "metadata": {}
        },
        {
          "output_type": "stream",
          "name": "stdout",
          "text": [
            "\n",
            "\n",
            "For Dataframe heartrate_df\n"
          ]
        },
        {
          "output_type": "display_data",
          "data": {
            "text/html": [
              "<div>\n",
              "<style scoped>\n",
              "    .dataframe tbody tr th:only-of-type {\n",
              "        vertical-align: middle;\n",
              "    }\n",
              "\n",
              "    .dataframe tbody tr th {\n",
              "        vertical-align: top;\n",
              "    }\n",
              "\n",
              "    .dataframe thead th {\n",
              "        text-align: right;\n",
              "    }\n",
              "</style>\n",
              "<table border=\"1\" class=\"dataframe\">\n",
              "  <thead>\n",
              "    <tr style=\"text-align: right;\">\n",
              "      <th></th>\n",
              "      <th>Id</th>\n",
              "      <th>Time</th>\n",
              "      <th>Value</th>\n",
              "    </tr>\n",
              "  </thead>\n",
              "  <tbody>\n",
              "    <tr>\n",
              "      <th>0</th>\n",
              "      <td>2022484408</td>\n",
              "      <td>4/12/2016 7:21:00 AM</td>\n",
              "      <td>97</td>\n",
              "    </tr>\n",
              "    <tr>\n",
              "      <th>1</th>\n",
              "      <td>2022484408</td>\n",
              "      <td>4/12/2016 7:21:05 AM</td>\n",
              "      <td>102</td>\n",
              "    </tr>\n",
              "    <tr>\n",
              "      <th>2</th>\n",
              "      <td>2022484408</td>\n",
              "      <td>4/12/2016 7:21:10 AM</td>\n",
              "      <td>105</td>\n",
              "    </tr>\n",
              "    <tr>\n",
              "      <th>3</th>\n",
              "      <td>2022484408</td>\n",
              "      <td>4/12/2016 7:21:20 AM</td>\n",
              "      <td>103</td>\n",
              "    </tr>\n",
              "    <tr>\n",
              "      <th>4</th>\n",
              "      <td>2022484408</td>\n",
              "      <td>4/12/2016 7:21:25 AM</td>\n",
              "      <td>101</td>\n",
              "    </tr>\n",
              "  </tbody>\n",
              "</table>\n",
              "</div>"
            ],
            "text/plain": [
              "           Id                  Time  Value\n",
              "0  2022484408  4/12/2016 7:21:00 AM     97\n",
              "1  2022484408  4/12/2016 7:21:05 AM    102\n",
              "2  2022484408  4/12/2016 7:21:10 AM    105\n",
              "3  2022484408  4/12/2016 7:21:20 AM    103\n",
              "4  2022484408  4/12/2016 7:21:25 AM    101"
            ]
          },
          "metadata": {}
        },
        {
          "output_type": "stream",
          "name": "stdout",
          "text": [
            "\n",
            "\n",
            "For Dataframe sleepday_df\n"
          ]
        },
        {
          "output_type": "display_data",
          "data": {
            "text/html": [
              "<div>\n",
              "<style scoped>\n",
              "    .dataframe tbody tr th:only-of-type {\n",
              "        vertical-align: middle;\n",
              "    }\n",
              "\n",
              "    .dataframe tbody tr th {\n",
              "        vertical-align: top;\n",
              "    }\n",
              "\n",
              "    .dataframe thead th {\n",
              "        text-align: right;\n",
              "    }\n",
              "</style>\n",
              "<table border=\"1\" class=\"dataframe\">\n",
              "  <thead>\n",
              "    <tr style=\"text-align: right;\">\n",
              "      <th></th>\n",
              "      <th>Id</th>\n",
              "      <th>SleepDay</th>\n",
              "      <th>TotalSleepRecords</th>\n",
              "      <th>TotalMinutesAsleep</th>\n",
              "      <th>TotalTimeInBed</th>\n",
              "    </tr>\n",
              "  </thead>\n",
              "  <tbody>\n",
              "    <tr>\n",
              "      <th>0</th>\n",
              "      <td>1503960366</td>\n",
              "      <td>4/12/2016 12:00:00 AM</td>\n",
              "      <td>1</td>\n",
              "      <td>327</td>\n",
              "      <td>346</td>\n",
              "    </tr>\n",
              "    <tr>\n",
              "      <th>1</th>\n",
              "      <td>1503960366</td>\n",
              "      <td>4/13/2016 12:00:00 AM</td>\n",
              "      <td>2</td>\n",
              "      <td>384</td>\n",
              "      <td>407</td>\n",
              "    </tr>\n",
              "    <tr>\n",
              "      <th>2</th>\n",
              "      <td>1503960366</td>\n",
              "      <td>4/15/2016 12:00:00 AM</td>\n",
              "      <td>1</td>\n",
              "      <td>412</td>\n",
              "      <td>442</td>\n",
              "    </tr>\n",
              "    <tr>\n",
              "      <th>3</th>\n",
              "      <td>1503960366</td>\n",
              "      <td>4/16/2016 12:00:00 AM</td>\n",
              "      <td>2</td>\n",
              "      <td>340</td>\n",
              "      <td>367</td>\n",
              "    </tr>\n",
              "    <tr>\n",
              "      <th>4</th>\n",
              "      <td>1503960366</td>\n",
              "      <td>4/17/2016 12:00:00 AM</td>\n",
              "      <td>1</td>\n",
              "      <td>700</td>\n",
              "      <td>712</td>\n",
              "    </tr>\n",
              "  </tbody>\n",
              "</table>\n",
              "</div>"
            ],
            "text/plain": [
              "           Id               SleepDay  ...  TotalMinutesAsleep  TotalTimeInBed\n",
              "0  1503960366  4/12/2016 12:00:00 AM  ...                 327             346\n",
              "1  1503960366  4/13/2016 12:00:00 AM  ...                 384             407\n",
              "2  1503960366  4/15/2016 12:00:00 AM  ...                 412             442\n",
              "3  1503960366  4/16/2016 12:00:00 AM  ...                 340             367\n",
              "4  1503960366  4/17/2016 12:00:00 AM  ...                 700             712\n",
              "\n",
              "[5 rows x 5 columns]"
            ]
          },
          "metadata": {}
        },
        {
          "output_type": "stream",
          "name": "stdout",
          "text": [
            "\n",
            "\n",
            "For Dataframe hourly_calories_df\n"
          ]
        },
        {
          "output_type": "display_data",
          "data": {
            "text/html": [
              "<div>\n",
              "<style scoped>\n",
              "    .dataframe tbody tr th:only-of-type {\n",
              "        vertical-align: middle;\n",
              "    }\n",
              "\n",
              "    .dataframe tbody tr th {\n",
              "        vertical-align: top;\n",
              "    }\n",
              "\n",
              "    .dataframe thead th {\n",
              "        text-align: right;\n",
              "    }\n",
              "</style>\n",
              "<table border=\"1\" class=\"dataframe\">\n",
              "  <thead>\n",
              "    <tr style=\"text-align: right;\">\n",
              "      <th></th>\n",
              "      <th>Id</th>\n",
              "      <th>ActivityHour</th>\n",
              "      <th>Calories</th>\n",
              "    </tr>\n",
              "  </thead>\n",
              "  <tbody>\n",
              "    <tr>\n",
              "      <th>0</th>\n",
              "      <td>1503960366</td>\n",
              "      <td>4/12/2016 12:00:00 AM</td>\n",
              "      <td>81</td>\n",
              "    </tr>\n",
              "    <tr>\n",
              "      <th>1</th>\n",
              "      <td>1503960366</td>\n",
              "      <td>4/12/2016 1:00:00 AM</td>\n",
              "      <td>61</td>\n",
              "    </tr>\n",
              "    <tr>\n",
              "      <th>2</th>\n",
              "      <td>1503960366</td>\n",
              "      <td>4/12/2016 2:00:00 AM</td>\n",
              "      <td>59</td>\n",
              "    </tr>\n",
              "    <tr>\n",
              "      <th>3</th>\n",
              "      <td>1503960366</td>\n",
              "      <td>4/12/2016 3:00:00 AM</td>\n",
              "      <td>47</td>\n",
              "    </tr>\n",
              "    <tr>\n",
              "      <th>4</th>\n",
              "      <td>1503960366</td>\n",
              "      <td>4/12/2016 4:00:00 AM</td>\n",
              "      <td>48</td>\n",
              "    </tr>\n",
              "  </tbody>\n",
              "</table>\n",
              "</div>"
            ],
            "text/plain": [
              "           Id           ActivityHour  Calories\n",
              "0  1503960366  4/12/2016 12:00:00 AM        81\n",
              "1  1503960366   4/12/2016 1:00:00 AM        61\n",
              "2  1503960366   4/12/2016 2:00:00 AM        59\n",
              "3  1503960366   4/12/2016 3:00:00 AM        47\n",
              "4  1503960366   4/12/2016 4:00:00 AM        48"
            ]
          },
          "metadata": {}
        },
        {
          "output_type": "stream",
          "name": "stdout",
          "text": [
            "\n",
            "\n",
            "For Dataframe hourly_steps_df\n"
          ]
        },
        {
          "output_type": "display_data",
          "data": {
            "text/html": [
              "<div>\n",
              "<style scoped>\n",
              "    .dataframe tbody tr th:only-of-type {\n",
              "        vertical-align: middle;\n",
              "    }\n",
              "\n",
              "    .dataframe tbody tr th {\n",
              "        vertical-align: top;\n",
              "    }\n",
              "\n",
              "    .dataframe thead th {\n",
              "        text-align: right;\n",
              "    }\n",
              "</style>\n",
              "<table border=\"1\" class=\"dataframe\">\n",
              "  <thead>\n",
              "    <tr style=\"text-align: right;\">\n",
              "      <th></th>\n",
              "      <th>Id</th>\n",
              "      <th>ActivityHour</th>\n",
              "      <th>StepTotal</th>\n",
              "    </tr>\n",
              "  </thead>\n",
              "  <tbody>\n",
              "    <tr>\n",
              "      <th>0</th>\n",
              "      <td>1503960366</td>\n",
              "      <td>4/12/2016 12:00:00 AM</td>\n",
              "      <td>373</td>\n",
              "    </tr>\n",
              "    <tr>\n",
              "      <th>1</th>\n",
              "      <td>1503960366</td>\n",
              "      <td>4/12/2016 1:00:00 AM</td>\n",
              "      <td>160</td>\n",
              "    </tr>\n",
              "    <tr>\n",
              "      <th>2</th>\n",
              "      <td>1503960366</td>\n",
              "      <td>4/12/2016 2:00:00 AM</td>\n",
              "      <td>151</td>\n",
              "    </tr>\n",
              "    <tr>\n",
              "      <th>3</th>\n",
              "      <td>1503960366</td>\n",
              "      <td>4/12/2016 3:00:00 AM</td>\n",
              "      <td>0</td>\n",
              "    </tr>\n",
              "    <tr>\n",
              "      <th>4</th>\n",
              "      <td>1503960366</td>\n",
              "      <td>4/12/2016 4:00:00 AM</td>\n",
              "      <td>0</td>\n",
              "    </tr>\n",
              "  </tbody>\n",
              "</table>\n",
              "</div>"
            ],
            "text/plain": [
              "           Id           ActivityHour  StepTotal\n",
              "0  1503960366  4/12/2016 12:00:00 AM        373\n",
              "1  1503960366   4/12/2016 1:00:00 AM        160\n",
              "2  1503960366   4/12/2016 2:00:00 AM        151\n",
              "3  1503960366   4/12/2016 3:00:00 AM          0\n",
              "4  1503960366   4/12/2016 4:00:00 AM          0"
            ]
          },
          "metadata": {}
        },
        {
          "output_type": "stream",
          "name": "stdout",
          "text": [
            "\n",
            "\n",
            "For Dataframe hourly_intensities_df\n"
          ]
        },
        {
          "output_type": "display_data",
          "data": {
            "text/html": [
              "<div>\n",
              "<style scoped>\n",
              "    .dataframe tbody tr th:only-of-type {\n",
              "        vertical-align: middle;\n",
              "    }\n",
              "\n",
              "    .dataframe tbody tr th {\n",
              "        vertical-align: top;\n",
              "    }\n",
              "\n",
              "    .dataframe thead th {\n",
              "        text-align: right;\n",
              "    }\n",
              "</style>\n",
              "<table border=\"1\" class=\"dataframe\">\n",
              "  <thead>\n",
              "    <tr style=\"text-align: right;\">\n",
              "      <th></th>\n",
              "      <th>Id</th>\n",
              "      <th>ActivityHour</th>\n",
              "      <th>TotalIntensity</th>\n",
              "      <th>AverageIntensity</th>\n",
              "    </tr>\n",
              "  </thead>\n",
              "  <tbody>\n",
              "    <tr>\n",
              "      <th>0</th>\n",
              "      <td>1503960366</td>\n",
              "      <td>4/12/2016 12:00:00 AM</td>\n",
              "      <td>20</td>\n",
              "      <td>0.333333</td>\n",
              "    </tr>\n",
              "    <tr>\n",
              "      <th>1</th>\n",
              "      <td>1503960366</td>\n",
              "      <td>4/12/2016 1:00:00 AM</td>\n",
              "      <td>8</td>\n",
              "      <td>0.133333</td>\n",
              "    </tr>\n",
              "    <tr>\n",
              "      <th>2</th>\n",
              "      <td>1503960366</td>\n",
              "      <td>4/12/2016 2:00:00 AM</td>\n",
              "      <td>7</td>\n",
              "      <td>0.116667</td>\n",
              "    </tr>\n",
              "    <tr>\n",
              "      <th>3</th>\n",
              "      <td>1503960366</td>\n",
              "      <td>4/12/2016 3:00:00 AM</td>\n",
              "      <td>0</td>\n",
              "      <td>0.000000</td>\n",
              "    </tr>\n",
              "    <tr>\n",
              "      <th>4</th>\n",
              "      <td>1503960366</td>\n",
              "      <td>4/12/2016 4:00:00 AM</td>\n",
              "      <td>0</td>\n",
              "      <td>0.000000</td>\n",
              "    </tr>\n",
              "  </tbody>\n",
              "</table>\n",
              "</div>"
            ],
            "text/plain": [
              "           Id           ActivityHour  TotalIntensity  AverageIntensity\n",
              "0  1503960366  4/12/2016 12:00:00 AM              20          0.333333\n",
              "1  1503960366   4/12/2016 1:00:00 AM               8          0.133333\n",
              "2  1503960366   4/12/2016 2:00:00 AM               7          0.116667\n",
              "3  1503960366   4/12/2016 3:00:00 AM               0          0.000000\n",
              "4  1503960366   4/12/2016 4:00:00 AM               0          0.000000"
            ]
          },
          "metadata": {}
        },
        {
          "output_type": "stream",
          "name": "stdout",
          "text": [
            "\n",
            "\n",
            "For Dataframe minute_calories_df\n"
          ]
        },
        {
          "output_type": "display_data",
          "data": {
            "text/html": [
              "<div>\n",
              "<style scoped>\n",
              "    .dataframe tbody tr th:only-of-type {\n",
              "        vertical-align: middle;\n",
              "    }\n",
              "\n",
              "    .dataframe tbody tr th {\n",
              "        vertical-align: top;\n",
              "    }\n",
              "\n",
              "    .dataframe thead th {\n",
              "        text-align: right;\n",
              "    }\n",
              "</style>\n",
              "<table border=\"1\" class=\"dataframe\">\n",
              "  <thead>\n",
              "    <tr style=\"text-align: right;\">\n",
              "      <th></th>\n",
              "      <th>Id</th>\n",
              "      <th>ActivityMinute</th>\n",
              "      <th>Calories</th>\n",
              "    </tr>\n",
              "  </thead>\n",
              "  <tbody>\n",
              "    <tr>\n",
              "      <th>0</th>\n",
              "      <td>1503960366</td>\n",
              "      <td>4/12/2016 12:00:00 AM</td>\n",
              "      <td>0.7865</td>\n",
              "    </tr>\n",
              "    <tr>\n",
              "      <th>1</th>\n",
              "      <td>1503960366</td>\n",
              "      <td>4/12/2016 12:01:00 AM</td>\n",
              "      <td>0.7865</td>\n",
              "    </tr>\n",
              "    <tr>\n",
              "      <th>2</th>\n",
              "      <td>1503960366</td>\n",
              "      <td>4/12/2016 12:02:00 AM</td>\n",
              "      <td>0.7865</td>\n",
              "    </tr>\n",
              "    <tr>\n",
              "      <th>3</th>\n",
              "      <td>1503960366</td>\n",
              "      <td>4/12/2016 12:03:00 AM</td>\n",
              "      <td>0.7865</td>\n",
              "    </tr>\n",
              "    <tr>\n",
              "      <th>4</th>\n",
              "      <td>1503960366</td>\n",
              "      <td>4/12/2016 12:04:00 AM</td>\n",
              "      <td>0.7865</td>\n",
              "    </tr>\n",
              "  </tbody>\n",
              "</table>\n",
              "</div>"
            ],
            "text/plain": [
              "           Id         ActivityMinute  Calories\n",
              "0  1503960366  4/12/2016 12:00:00 AM    0.7865\n",
              "1  1503960366  4/12/2016 12:01:00 AM    0.7865\n",
              "2  1503960366  4/12/2016 12:02:00 AM    0.7865\n",
              "3  1503960366  4/12/2016 12:03:00 AM    0.7865\n",
              "4  1503960366  4/12/2016 12:04:00 AM    0.7865"
            ]
          },
          "metadata": {}
        },
        {
          "output_type": "stream",
          "name": "stdout",
          "text": [
            "\n",
            "\n",
            "For Dataframe minute_intensities_df\n"
          ]
        },
        {
          "output_type": "display_data",
          "data": {
            "text/html": [
              "<div>\n",
              "<style scoped>\n",
              "    .dataframe tbody tr th:only-of-type {\n",
              "        vertical-align: middle;\n",
              "    }\n",
              "\n",
              "    .dataframe tbody tr th {\n",
              "        vertical-align: top;\n",
              "    }\n",
              "\n",
              "    .dataframe thead th {\n",
              "        text-align: right;\n",
              "    }\n",
              "</style>\n",
              "<table border=\"1\" class=\"dataframe\">\n",
              "  <thead>\n",
              "    <tr style=\"text-align: right;\">\n",
              "      <th></th>\n",
              "      <th>Id</th>\n",
              "      <th>ActivityMinute</th>\n",
              "      <th>Intensity</th>\n",
              "    </tr>\n",
              "  </thead>\n",
              "  <tbody>\n",
              "    <tr>\n",
              "      <th>0</th>\n",
              "      <td>1503960366</td>\n",
              "      <td>4/12/2016 12:00:00 AM</td>\n",
              "      <td>0</td>\n",
              "    </tr>\n",
              "    <tr>\n",
              "      <th>1</th>\n",
              "      <td>1503960366</td>\n",
              "      <td>4/12/2016 12:01:00 AM</td>\n",
              "      <td>0</td>\n",
              "    </tr>\n",
              "    <tr>\n",
              "      <th>2</th>\n",
              "      <td>1503960366</td>\n",
              "      <td>4/12/2016 12:02:00 AM</td>\n",
              "      <td>0</td>\n",
              "    </tr>\n",
              "    <tr>\n",
              "      <th>3</th>\n",
              "      <td>1503960366</td>\n",
              "      <td>4/12/2016 12:03:00 AM</td>\n",
              "      <td>0</td>\n",
              "    </tr>\n",
              "    <tr>\n",
              "      <th>4</th>\n",
              "      <td>1503960366</td>\n",
              "      <td>4/12/2016 12:04:00 AM</td>\n",
              "      <td>0</td>\n",
              "    </tr>\n",
              "  </tbody>\n",
              "</table>\n",
              "</div>"
            ],
            "text/plain": [
              "           Id         ActivityMinute  Intensity\n",
              "0  1503960366  4/12/2016 12:00:00 AM          0\n",
              "1  1503960366  4/12/2016 12:01:00 AM          0\n",
              "2  1503960366  4/12/2016 12:02:00 AM          0\n",
              "3  1503960366  4/12/2016 12:03:00 AM          0\n",
              "4  1503960366  4/12/2016 12:04:00 AM          0"
            ]
          },
          "metadata": {}
        },
        {
          "output_type": "stream",
          "name": "stdout",
          "text": [
            "\n",
            "\n",
            "For Dataframe minute_sleep_df\n"
          ]
        },
        {
          "output_type": "display_data",
          "data": {
            "text/html": [
              "<div>\n",
              "<style scoped>\n",
              "    .dataframe tbody tr th:only-of-type {\n",
              "        vertical-align: middle;\n",
              "    }\n",
              "\n",
              "    .dataframe tbody tr th {\n",
              "        vertical-align: top;\n",
              "    }\n",
              "\n",
              "    .dataframe thead th {\n",
              "        text-align: right;\n",
              "    }\n",
              "</style>\n",
              "<table border=\"1\" class=\"dataframe\">\n",
              "  <thead>\n",
              "    <tr style=\"text-align: right;\">\n",
              "      <th></th>\n",
              "      <th>Id</th>\n",
              "      <th>date</th>\n",
              "      <th>value</th>\n",
              "      <th>logId</th>\n",
              "    </tr>\n",
              "  </thead>\n",
              "  <tbody>\n",
              "    <tr>\n",
              "      <th>0</th>\n",
              "      <td>1503960366</td>\n",
              "      <td>4/12/2016 2:47:30 AM</td>\n",
              "      <td>3</td>\n",
              "      <td>11380564589</td>\n",
              "    </tr>\n",
              "    <tr>\n",
              "      <th>1</th>\n",
              "      <td>1503960366</td>\n",
              "      <td>4/12/2016 2:48:30 AM</td>\n",
              "      <td>2</td>\n",
              "      <td>11380564589</td>\n",
              "    </tr>\n",
              "    <tr>\n",
              "      <th>2</th>\n",
              "      <td>1503960366</td>\n",
              "      <td>4/12/2016 2:49:30 AM</td>\n",
              "      <td>1</td>\n",
              "      <td>11380564589</td>\n",
              "    </tr>\n",
              "    <tr>\n",
              "      <th>3</th>\n",
              "      <td>1503960366</td>\n",
              "      <td>4/12/2016 2:50:30 AM</td>\n",
              "      <td>1</td>\n",
              "      <td>11380564589</td>\n",
              "    </tr>\n",
              "    <tr>\n",
              "      <th>4</th>\n",
              "      <td>1503960366</td>\n",
              "      <td>4/12/2016 2:51:30 AM</td>\n",
              "      <td>1</td>\n",
              "      <td>11380564589</td>\n",
              "    </tr>\n",
              "  </tbody>\n",
              "</table>\n",
              "</div>"
            ],
            "text/plain": [
              "           Id                  date  value        logId\n",
              "0  1503960366  4/12/2016 2:47:30 AM      3  11380564589\n",
              "1  1503960366  4/12/2016 2:48:30 AM      2  11380564589\n",
              "2  1503960366  4/12/2016 2:49:30 AM      1  11380564589\n",
              "3  1503960366  4/12/2016 2:50:30 AM      1  11380564589\n",
              "4  1503960366  4/12/2016 2:51:30 AM      1  11380564589"
            ]
          },
          "metadata": {}
        },
        {
          "output_type": "stream",
          "name": "stdout",
          "text": [
            "\n",
            "\n",
            "For Dataframe minute_steps_df\n"
          ]
        },
        {
          "output_type": "display_data",
          "data": {
            "text/html": [
              "<div>\n",
              "<style scoped>\n",
              "    .dataframe tbody tr th:only-of-type {\n",
              "        vertical-align: middle;\n",
              "    }\n",
              "\n",
              "    .dataframe tbody tr th {\n",
              "        vertical-align: top;\n",
              "    }\n",
              "\n",
              "    .dataframe thead th {\n",
              "        text-align: right;\n",
              "    }\n",
              "</style>\n",
              "<table border=\"1\" class=\"dataframe\">\n",
              "  <thead>\n",
              "    <tr style=\"text-align: right;\">\n",
              "      <th></th>\n",
              "      <th>Id</th>\n",
              "      <th>ActivityMinute</th>\n",
              "      <th>Steps</th>\n",
              "    </tr>\n",
              "  </thead>\n",
              "  <tbody>\n",
              "    <tr>\n",
              "      <th>0</th>\n",
              "      <td>1503960366</td>\n",
              "      <td>4/12/2016 12:00:00 AM</td>\n",
              "      <td>0</td>\n",
              "    </tr>\n",
              "    <tr>\n",
              "      <th>1</th>\n",
              "      <td>1503960366</td>\n",
              "      <td>4/12/2016 12:01:00 AM</td>\n",
              "      <td>0</td>\n",
              "    </tr>\n",
              "    <tr>\n",
              "      <th>2</th>\n",
              "      <td>1503960366</td>\n",
              "      <td>4/12/2016 12:02:00 AM</td>\n",
              "      <td>0</td>\n",
              "    </tr>\n",
              "    <tr>\n",
              "      <th>3</th>\n",
              "      <td>1503960366</td>\n",
              "      <td>4/12/2016 12:03:00 AM</td>\n",
              "      <td>0</td>\n",
              "    </tr>\n",
              "    <tr>\n",
              "      <th>4</th>\n",
              "      <td>1503960366</td>\n",
              "      <td>4/12/2016 12:04:00 AM</td>\n",
              "      <td>0</td>\n",
              "    </tr>\n",
              "  </tbody>\n",
              "</table>\n",
              "</div>"
            ],
            "text/plain": [
              "           Id         ActivityMinute  Steps\n",
              "0  1503960366  4/12/2016 12:00:00 AM      0\n",
              "1  1503960366  4/12/2016 12:01:00 AM      0\n",
              "2  1503960366  4/12/2016 12:02:00 AM      0\n",
              "3  1503960366  4/12/2016 12:03:00 AM      0\n",
              "4  1503960366  4/12/2016 12:04:00 AM      0"
            ]
          },
          "metadata": {}
        },
        {
          "output_type": "stream",
          "name": "stdout",
          "text": [
            "\n",
            "\n",
            "For Dataframe minute_MET_df\n"
          ]
        },
        {
          "output_type": "display_data",
          "data": {
            "text/html": [
              "<div>\n",
              "<style scoped>\n",
              "    .dataframe tbody tr th:only-of-type {\n",
              "        vertical-align: middle;\n",
              "    }\n",
              "\n",
              "    .dataframe tbody tr th {\n",
              "        vertical-align: top;\n",
              "    }\n",
              "\n",
              "    .dataframe thead th {\n",
              "        text-align: right;\n",
              "    }\n",
              "</style>\n",
              "<table border=\"1\" class=\"dataframe\">\n",
              "  <thead>\n",
              "    <tr style=\"text-align: right;\">\n",
              "      <th></th>\n",
              "      <th>Id</th>\n",
              "      <th>ActivityMinute</th>\n",
              "      <th>METs</th>\n",
              "    </tr>\n",
              "  </thead>\n",
              "  <tbody>\n",
              "    <tr>\n",
              "      <th>0</th>\n",
              "      <td>1503960366</td>\n",
              "      <td>4/12/2016 12:00:00 AM</td>\n",
              "      <td>10</td>\n",
              "    </tr>\n",
              "    <tr>\n",
              "      <th>1</th>\n",
              "      <td>1503960366</td>\n",
              "      <td>4/12/2016 12:01:00 AM</td>\n",
              "      <td>10</td>\n",
              "    </tr>\n",
              "    <tr>\n",
              "      <th>2</th>\n",
              "      <td>1503960366</td>\n",
              "      <td>4/12/2016 12:02:00 AM</td>\n",
              "      <td>10</td>\n",
              "    </tr>\n",
              "    <tr>\n",
              "      <th>3</th>\n",
              "      <td>1503960366</td>\n",
              "      <td>4/12/2016 12:03:00 AM</td>\n",
              "      <td>10</td>\n",
              "    </tr>\n",
              "    <tr>\n",
              "      <th>4</th>\n",
              "      <td>1503960366</td>\n",
              "      <td>4/12/2016 12:04:00 AM</td>\n",
              "      <td>10</td>\n",
              "    </tr>\n",
              "  </tbody>\n",
              "</table>\n",
              "</div>"
            ],
            "text/plain": [
              "           Id         ActivityMinute  METs\n",
              "0  1503960366  4/12/2016 12:00:00 AM    10\n",
              "1  1503960366  4/12/2016 12:01:00 AM    10\n",
              "2  1503960366  4/12/2016 12:02:00 AM    10\n",
              "3  1503960366  4/12/2016 12:03:00 AM    10\n",
              "4  1503960366  4/12/2016 12:04:00 AM    10"
            ]
          },
          "metadata": {}
        },
        {
          "output_type": "stream",
          "name": "stdout",
          "text": [
            "\n",
            "\n",
            "For Dataframe weight_log\n"
          ]
        },
        {
          "output_type": "display_data",
          "data": {
            "text/html": [
              "<div>\n",
              "<style scoped>\n",
              "    .dataframe tbody tr th:only-of-type {\n",
              "        vertical-align: middle;\n",
              "    }\n",
              "\n",
              "    .dataframe tbody tr th {\n",
              "        vertical-align: top;\n",
              "    }\n",
              "\n",
              "    .dataframe thead th {\n",
              "        text-align: right;\n",
              "    }\n",
              "</style>\n",
              "<table border=\"1\" class=\"dataframe\">\n",
              "  <thead>\n",
              "    <tr style=\"text-align: right;\">\n",
              "      <th></th>\n",
              "      <th>Id</th>\n",
              "      <th>Date</th>\n",
              "      <th>WeightKg</th>\n",
              "      <th>WeightPounds</th>\n",
              "      <th>Fat</th>\n",
              "      <th>BMI</th>\n",
              "      <th>IsManualReport</th>\n",
              "      <th>LogId</th>\n",
              "    </tr>\n",
              "  </thead>\n",
              "  <tbody>\n",
              "    <tr>\n",
              "      <th>0</th>\n",
              "      <td>1503960366</td>\n",
              "      <td>5/2/2016 11:59:59 PM</td>\n",
              "      <td>52.599998</td>\n",
              "      <td>115.963147</td>\n",
              "      <td>22.0</td>\n",
              "      <td>22.650000</td>\n",
              "      <td>True</td>\n",
              "      <td>1462233599000</td>\n",
              "    </tr>\n",
              "    <tr>\n",
              "      <th>1</th>\n",
              "      <td>1503960366</td>\n",
              "      <td>5/3/2016 11:59:59 PM</td>\n",
              "      <td>52.599998</td>\n",
              "      <td>115.963147</td>\n",
              "      <td>NaN</td>\n",
              "      <td>22.650000</td>\n",
              "      <td>True</td>\n",
              "      <td>1462319999000</td>\n",
              "    </tr>\n",
              "    <tr>\n",
              "      <th>2</th>\n",
              "      <td>1927972279</td>\n",
              "      <td>4/13/2016 1:08:52 AM</td>\n",
              "      <td>133.500000</td>\n",
              "      <td>294.317120</td>\n",
              "      <td>NaN</td>\n",
              "      <td>47.540001</td>\n",
              "      <td>False</td>\n",
              "      <td>1460509732000</td>\n",
              "    </tr>\n",
              "    <tr>\n",
              "      <th>3</th>\n",
              "      <td>2873212765</td>\n",
              "      <td>4/21/2016 11:59:59 PM</td>\n",
              "      <td>56.700001</td>\n",
              "      <td>125.002104</td>\n",
              "      <td>NaN</td>\n",
              "      <td>21.450001</td>\n",
              "      <td>True</td>\n",
              "      <td>1461283199000</td>\n",
              "    </tr>\n",
              "    <tr>\n",
              "      <th>4</th>\n",
              "      <td>2873212765</td>\n",
              "      <td>5/12/2016 11:59:59 PM</td>\n",
              "      <td>57.299999</td>\n",
              "      <td>126.324875</td>\n",
              "      <td>NaN</td>\n",
              "      <td>21.690001</td>\n",
              "      <td>True</td>\n",
              "      <td>1463097599000</td>\n",
              "    </tr>\n",
              "  </tbody>\n",
              "</table>\n",
              "</div>"
            ],
            "text/plain": [
              "           Id                   Date  ...  IsManualReport          LogId\n",
              "0  1503960366   5/2/2016 11:59:59 PM  ...            True  1462233599000\n",
              "1  1503960366   5/3/2016 11:59:59 PM  ...            True  1462319999000\n",
              "2  1927972279   4/13/2016 1:08:52 AM  ...           False  1460509732000\n",
              "3  2873212765  4/21/2016 11:59:59 PM  ...            True  1461283199000\n",
              "4  2873212765  5/12/2016 11:59:59 PM  ...            True  1463097599000\n",
              "\n",
              "[5 rows x 8 columns]"
            ]
          },
          "metadata": {}
        },
        {
          "output_type": "stream",
          "name": "stdout",
          "text": [
            "\n",
            "\n"
          ]
        }
      ]
    },
    {
      "cell_type": "code",
      "metadata": {
        "colab": {
          "base_uri": "https://localhost:8080/"
        },
        "id": "d0UHIVDwOZy1",
        "outputId": "594f51a0-b527-4089-ca2a-ddfbdd418318"
      },
      "source": [
        "# Checking the types of each column in the dataframe\n",
        "for i, en in enumerate(dataframe_list):\n",
        "  print(\"For Dataframe: \",dataframe_name_list[i])\n",
        "  print()\n",
        "  print(en.dtypes)\n",
        "  print()\n",
        "  print()"
      ],
      "execution_count": 27,
      "outputs": [
        {
          "output_type": "stream",
          "name": "stdout",
          "text": [
            "For Dataframe:  daily_activity_df\n",
            "\n",
            "Id                            int64\n",
            "ActivityDate                 object\n",
            "TotalSteps                    int64\n",
            "TotalDistance               float64\n",
            "TrackerDistance             float64\n",
            "LoggedActivitiesDistance    float64\n",
            "VeryActiveDistance          float64\n",
            "ModeratelyActiveDistance    float64\n",
            "LightActiveDistance         float64\n",
            "SedentaryActiveDistance     float64\n",
            "VeryActiveMinutes             int64\n",
            "FairlyActiveMinutes           int64\n",
            "LightlyActiveMinutes          int64\n",
            "SedentaryMinutes              int64\n",
            "Calories                      int64\n",
            "dtype: object\n",
            "\n",
            "\n",
            "For Dataframe:  heartrate_df\n",
            "\n",
            "Id        int64\n",
            "Time     object\n",
            "Value     int64\n",
            "dtype: object\n",
            "\n",
            "\n",
            "For Dataframe:  sleepday_df\n",
            "\n",
            "Id                     int64\n",
            "SleepDay              object\n",
            "TotalSleepRecords      int64\n",
            "TotalMinutesAsleep     int64\n",
            "TotalTimeInBed         int64\n",
            "dtype: object\n",
            "\n",
            "\n",
            "For Dataframe:  hourly_calories_df\n",
            "\n",
            "Id               int64\n",
            "ActivityHour    object\n",
            "Calories         int64\n",
            "dtype: object\n",
            "\n",
            "\n",
            "For Dataframe:  hourly_steps_df\n",
            "\n",
            "Id               int64\n",
            "ActivityHour    object\n",
            "StepTotal        int64\n",
            "dtype: object\n",
            "\n",
            "\n",
            "For Dataframe:  hourly_intensities_df\n",
            "\n",
            "Id                    int64\n",
            "ActivityHour         object\n",
            "TotalIntensity        int64\n",
            "AverageIntensity    float64\n",
            "dtype: object\n",
            "\n",
            "\n",
            "For Dataframe:  minute_calories_df\n",
            "\n",
            "Id                  int64\n",
            "ActivityMinute     object\n",
            "Calories          float64\n",
            "dtype: object\n",
            "\n",
            "\n",
            "For Dataframe:  minute_intensities_df\n",
            "\n",
            "Id                 int64\n",
            "ActivityMinute    object\n",
            "Intensity          int64\n",
            "dtype: object\n",
            "\n",
            "\n",
            "For Dataframe:  minute_sleep_df\n",
            "\n",
            "Id        int64\n",
            "date     object\n",
            "value     int64\n",
            "logId     int64\n",
            "dtype: object\n",
            "\n",
            "\n",
            "For Dataframe:  minute_steps_df\n",
            "\n",
            "Id                 int64\n",
            "ActivityMinute    object\n",
            "Steps              int64\n",
            "dtype: object\n",
            "\n",
            "\n",
            "For Dataframe:  minute_MET_df\n",
            "\n",
            "Id                 int64\n",
            "ActivityMinute    object\n",
            "METs               int64\n",
            "dtype: object\n",
            "\n",
            "\n",
            "For Dataframe:  weight_log\n",
            "\n",
            "Id                  int64\n",
            "Date               object\n",
            "WeightKg          float64\n",
            "WeightPounds      float64\n",
            "Fat               float64\n",
            "BMI               float64\n",
            "IsManualReport       bool\n",
            "LogId               int64\n",
            "dtype: object\n",
            "\n",
            "\n"
          ]
        }
      ]
    },
    {
      "cell_type": "markdown",
      "metadata": {
        "id": "DfqYmBorUy9M"
      },
      "source": [
        "## Process"
      ]
    },
    {
      "cell_type": "markdown",
      "metadata": {
        "id": "-cXG2UuWMoId"
      },
      "source": [
        "###  Cleaning the dataset\n",
        "Documenting the cleaning process using the ipython notebook"
      ]
    },
    {
      "cell_type": "code",
      "metadata": {
        "colab": {
          "base_uri": "https://localhost:8080/"
        },
        "id": "pkRFzK-EDFWJ",
        "outputId": "7bd24874-f44f-49d1-ca68-3f332dca2b1b"
      },
      "source": [
        "#Checking for Nan Values\n",
        "for i, en in enumerate(dataframe_list):\n",
        "  if en.isna().sum().sum() > 0:\n",
        "    print(\"Nan Values for Dataframe\",dataframe_name_list[i],\"is\",en.isna().sum().sum())"
      ],
      "execution_count": 28,
      "outputs": [
        {
          "output_type": "stream",
          "name": "stdout",
          "text": [
            "Nan Values for Dataframe weight_log is 65\n"
          ]
        }
      ]
    },
    {
      "cell_type": "code",
      "metadata": {
        "colab": {
          "base_uri": "https://localhost:8080/"
        },
        "id": "gL-XDBroP8gY",
        "outputId": "f3eb4337-ad25-41bf-e3fe-1b4f39e8f627"
      },
      "source": [
        "#Finding duplicates in dataframe\n",
        "for i, en in enumerate(dataframe_list):\n",
        "  if en.drop_duplicates().shape[0] != en.shape[0]:\n",
        "    print(\"Number of Duplicates for Dataframe\",dataframe_name_list[i],\"is\",en.shape[0] - en.drop_duplicates().shape[0])\n",
        "sleepday_df = sleepday_df.drop_duplicates()\n",
        "minute_sleep_df = minute_sleep_df.drop_duplicates()"
      ],
      "execution_count": 29,
      "outputs": [
        {
          "output_type": "stream",
          "name": "stdout",
          "text": [
            "Number of Duplicates for Dataframe sleepday_df is 3\n",
            "Number of Duplicates for Dataframe minute_sleep_df is 543\n"
          ]
        }
      ]
    },
    {
      "cell_type": "code",
      "metadata": {
        "colab": {
          "base_uri": "https://localhost:8080/"
        },
        "id": "2pT2WIrYi7hA",
        "outputId": "02ca2ac4-cba0-43f9-a9f7-1634b53e2c40"
      },
      "source": [
        "# As the number of participants mentioned were 33 in the metadata of the data, we are verifying the same\n",
        "for i, en in enumerate(dataframe_list):\n",
        "  print(\"For Dataframe\",dataframe_name_list[i],\":\",en[\"Id\"].unique().shape[0])"
      ],
      "execution_count": 30,
      "outputs": [
        {
          "output_type": "stream",
          "name": "stdout",
          "text": [
            "For Dataframe daily_activity_df : 33\n",
            "For Dataframe heartrate_df : 14\n",
            "For Dataframe sleepday_df : 24\n",
            "For Dataframe hourly_calories_df : 33\n",
            "For Dataframe hourly_steps_df : 33\n",
            "For Dataframe hourly_intensities_df : 33\n",
            "For Dataframe minute_calories_df : 33\n",
            "For Dataframe minute_intensities_df : 33\n",
            "For Dataframe minute_sleep_df : 24\n",
            "For Dataframe minute_steps_df : 33\n",
            "For Dataframe minute_MET_df : 33\n",
            "For Dataframe weight_log : 8\n"
          ]
        }
      ]
    },
    {
      "cell_type": "markdown",
      "metadata": {
        "id": "NHHlSoFVluPd"
      },
      "source": [
        "We are not doing any further data analysis on weight_log and heartrate as the sample size is small as compared to number of users registered for survey while others are matching the number of participants except of sleepday_df and minute_sleep_df. But, we are not excluding the sleepday_df and minute_sleep_df as the sample size is 24 which is okay(in this case)."
      ]
    },
    {
      "cell_type": "markdown",
      "metadata": {
        "id": "u6gp4steX605"
      },
      "source": [
        "## Analyze and Share"
      ]
    },
    {
      "cell_type": "code",
      "metadata": {
        "colab": {
          "base_uri": "https://localhost:8080/"
        },
        "id": "nOingBK0UnnT",
        "outputId": "23768bc5-55e5-4353-f5f5-ee914770b318"
      },
      "source": [
        "daily_activity_df.columns"
      ],
      "execution_count": 31,
      "outputs": [
        {
          "output_type": "execute_result",
          "data": {
            "text/plain": [
              "Index(['Id', 'ActivityDate', 'TotalSteps', 'TotalDistance', 'TrackerDistance',\n",
              "       'LoggedActivitiesDistance', 'VeryActiveDistance',\n",
              "       'ModeratelyActiveDistance', 'LightActiveDistance',\n",
              "       'SedentaryActiveDistance', 'VeryActiveMinutes', 'FairlyActiveMinutes',\n",
              "       'LightlyActiveMinutes', 'SedentaryMinutes', 'Calories'],\n",
              "      dtype='object')"
            ]
          },
          "metadata": {},
          "execution_count": 31
        }
      ]
    },
    {
      "cell_type": "code",
      "metadata": {
        "colab": {
          "base_uri": "https://localhost:8080/",
          "height": 315
        },
        "id": "UuMRsWNaZFp1",
        "outputId": "77b87a1d-0c41-48bc-cf81-72b5c25e272a"
      },
      "source": [
        "daily_activity_df.iloc[:,1:].describe()"
      ],
      "execution_count": 32,
      "outputs": [
        {
          "output_type": "execute_result",
          "data": {
            "text/html": [
              "<div>\n",
              "<style scoped>\n",
              "    .dataframe tbody tr th:only-of-type {\n",
              "        vertical-align: middle;\n",
              "    }\n",
              "\n",
              "    .dataframe tbody tr th {\n",
              "        vertical-align: top;\n",
              "    }\n",
              "\n",
              "    .dataframe thead th {\n",
              "        text-align: right;\n",
              "    }\n",
              "</style>\n",
              "<table border=\"1\" class=\"dataframe\">\n",
              "  <thead>\n",
              "    <tr style=\"text-align: right;\">\n",
              "      <th></th>\n",
              "      <th>TotalSteps</th>\n",
              "      <th>TotalDistance</th>\n",
              "      <th>TrackerDistance</th>\n",
              "      <th>LoggedActivitiesDistance</th>\n",
              "      <th>VeryActiveDistance</th>\n",
              "      <th>ModeratelyActiveDistance</th>\n",
              "      <th>LightActiveDistance</th>\n",
              "      <th>SedentaryActiveDistance</th>\n",
              "      <th>VeryActiveMinutes</th>\n",
              "      <th>FairlyActiveMinutes</th>\n",
              "      <th>LightlyActiveMinutes</th>\n",
              "      <th>SedentaryMinutes</th>\n",
              "      <th>Calories</th>\n",
              "    </tr>\n",
              "  </thead>\n",
              "  <tbody>\n",
              "    <tr>\n",
              "      <th>count</th>\n",
              "      <td>940.000000</td>\n",
              "      <td>940.000000</td>\n",
              "      <td>940.000000</td>\n",
              "      <td>940.000000</td>\n",
              "      <td>940.000000</td>\n",
              "      <td>940.000000</td>\n",
              "      <td>940.000000</td>\n",
              "      <td>940.000000</td>\n",
              "      <td>940.000000</td>\n",
              "      <td>940.000000</td>\n",
              "      <td>940.000000</td>\n",
              "      <td>940.000000</td>\n",
              "      <td>940.000000</td>\n",
              "    </tr>\n",
              "    <tr>\n",
              "      <th>mean</th>\n",
              "      <td>7637.910638</td>\n",
              "      <td>5.489702</td>\n",
              "      <td>5.475351</td>\n",
              "      <td>0.108171</td>\n",
              "      <td>1.502681</td>\n",
              "      <td>0.567543</td>\n",
              "      <td>3.340819</td>\n",
              "      <td>0.001606</td>\n",
              "      <td>21.164894</td>\n",
              "      <td>13.564894</td>\n",
              "      <td>192.812766</td>\n",
              "      <td>991.210638</td>\n",
              "      <td>2303.609574</td>\n",
              "    </tr>\n",
              "    <tr>\n",
              "      <th>std</th>\n",
              "      <td>5087.150742</td>\n",
              "      <td>3.924606</td>\n",
              "      <td>3.907276</td>\n",
              "      <td>0.619897</td>\n",
              "      <td>2.658941</td>\n",
              "      <td>0.883580</td>\n",
              "      <td>2.040655</td>\n",
              "      <td>0.007346</td>\n",
              "      <td>32.844803</td>\n",
              "      <td>19.987404</td>\n",
              "      <td>109.174700</td>\n",
              "      <td>301.267437</td>\n",
              "      <td>718.166862</td>\n",
              "    </tr>\n",
              "    <tr>\n",
              "      <th>min</th>\n",
              "      <td>0.000000</td>\n",
              "      <td>0.000000</td>\n",
              "      <td>0.000000</td>\n",
              "      <td>0.000000</td>\n",
              "      <td>0.000000</td>\n",
              "      <td>0.000000</td>\n",
              "      <td>0.000000</td>\n",
              "      <td>0.000000</td>\n",
              "      <td>0.000000</td>\n",
              "      <td>0.000000</td>\n",
              "      <td>0.000000</td>\n",
              "      <td>0.000000</td>\n",
              "      <td>0.000000</td>\n",
              "    </tr>\n",
              "    <tr>\n",
              "      <th>25%</th>\n",
              "      <td>3789.750000</td>\n",
              "      <td>2.620000</td>\n",
              "      <td>2.620000</td>\n",
              "      <td>0.000000</td>\n",
              "      <td>0.000000</td>\n",
              "      <td>0.000000</td>\n",
              "      <td>1.945000</td>\n",
              "      <td>0.000000</td>\n",
              "      <td>0.000000</td>\n",
              "      <td>0.000000</td>\n",
              "      <td>127.000000</td>\n",
              "      <td>729.750000</td>\n",
              "      <td>1828.500000</td>\n",
              "    </tr>\n",
              "    <tr>\n",
              "      <th>50%</th>\n",
              "      <td>7405.500000</td>\n",
              "      <td>5.245000</td>\n",
              "      <td>5.245000</td>\n",
              "      <td>0.000000</td>\n",
              "      <td>0.210000</td>\n",
              "      <td>0.240000</td>\n",
              "      <td>3.365000</td>\n",
              "      <td>0.000000</td>\n",
              "      <td>4.000000</td>\n",
              "      <td>6.000000</td>\n",
              "      <td>199.000000</td>\n",
              "      <td>1057.500000</td>\n",
              "      <td>2134.000000</td>\n",
              "    </tr>\n",
              "    <tr>\n",
              "      <th>75%</th>\n",
              "      <td>10727.000000</td>\n",
              "      <td>7.712500</td>\n",
              "      <td>7.710000</td>\n",
              "      <td>0.000000</td>\n",
              "      <td>2.052500</td>\n",
              "      <td>0.800000</td>\n",
              "      <td>4.782500</td>\n",
              "      <td>0.000000</td>\n",
              "      <td>32.000000</td>\n",
              "      <td>19.000000</td>\n",
              "      <td>264.000000</td>\n",
              "      <td>1229.500000</td>\n",
              "      <td>2793.250000</td>\n",
              "    </tr>\n",
              "    <tr>\n",
              "      <th>max</th>\n",
              "      <td>36019.000000</td>\n",
              "      <td>28.030001</td>\n",
              "      <td>28.030001</td>\n",
              "      <td>4.942142</td>\n",
              "      <td>21.920000</td>\n",
              "      <td>6.480000</td>\n",
              "      <td>10.710000</td>\n",
              "      <td>0.110000</td>\n",
              "      <td>210.000000</td>\n",
              "      <td>143.000000</td>\n",
              "      <td>518.000000</td>\n",
              "      <td>1440.000000</td>\n",
              "      <td>4900.000000</td>\n",
              "    </tr>\n",
              "  </tbody>\n",
              "</table>\n",
              "</div>"
            ],
            "text/plain": [
              "         TotalSteps  TotalDistance  ...  SedentaryMinutes     Calories\n",
              "count    940.000000     940.000000  ...        940.000000   940.000000\n",
              "mean    7637.910638       5.489702  ...        991.210638  2303.609574\n",
              "std     5087.150742       3.924606  ...        301.267437   718.166862\n",
              "min        0.000000       0.000000  ...          0.000000     0.000000\n",
              "25%     3789.750000       2.620000  ...        729.750000  1828.500000\n",
              "50%     7405.500000       5.245000  ...       1057.500000  2134.000000\n",
              "75%    10727.000000       7.712500  ...       1229.500000  2793.250000\n",
              "max    36019.000000      28.030001  ...       1440.000000  4900.000000\n",
              "\n",
              "[8 rows x 13 columns]"
            ]
          },
          "metadata": {},
          "execution_count": 32
        }
      ]
    },
    {
      "cell_type": "markdown",
      "metadata": {
        "id": "m2YYjkxiNhrI"
      },
      "source": [
        "We infer the following points from the above data and follwing tracks leading to further analysing and sharing of data:-\n",
        "1. The mean total steps taken per day is 7638 and 50% of data is less than 8000 as per a study, 8000 steps are to be taken a day to reduce health risks related to death considerably.<a href=\"https://www.nih.gov/news-events/nih-research-matters/number-steps-day-more-important-step-intensity\">[Source]</a>. The minimum steps is 0. We can see that activity minutes are very low. We can sum them up together and check if they come up for 20 minutes a day (excluding sedentary activity)<a href=\"https://theconversation.com/how-much-do-sedentary-people-really-need-to-move-its-less-than-you-think-114824\">[Source]</a>.\n",
        "2. Logged activity distance are very low.\n",
        "3. Sedentary minutes are very high and thus, can be an influencing parameter in calories burning. \n",
        "4. We can also track for week day and weekends calories data."
      ]
    },
    {
      "cell_type": "code",
      "metadata": {
        "colab": {
          "base_uri": "https://localhost:8080/",
          "height": 295
        },
        "id": "mT9cQiufexKm",
        "outputId": "55a8dcbc-061a-4542-a280-eb30c7a3b37a"
      },
      "source": [
        "sleepday_df.iloc[:,1:].describe()"
      ],
      "execution_count": 33,
      "outputs": [
        {
          "output_type": "execute_result",
          "data": {
            "text/html": [
              "<div>\n",
              "<style scoped>\n",
              "    .dataframe tbody tr th:only-of-type {\n",
              "        vertical-align: middle;\n",
              "    }\n",
              "\n",
              "    .dataframe tbody tr th {\n",
              "        vertical-align: top;\n",
              "    }\n",
              "\n",
              "    .dataframe thead th {\n",
              "        text-align: right;\n",
              "    }\n",
              "</style>\n",
              "<table border=\"1\" class=\"dataframe\">\n",
              "  <thead>\n",
              "    <tr style=\"text-align: right;\">\n",
              "      <th></th>\n",
              "      <th>TotalSleepRecords</th>\n",
              "      <th>TotalMinutesAsleep</th>\n",
              "      <th>TotalTimeInBed</th>\n",
              "    </tr>\n",
              "  </thead>\n",
              "  <tbody>\n",
              "    <tr>\n",
              "      <th>count</th>\n",
              "      <td>410.000000</td>\n",
              "      <td>410.000000</td>\n",
              "      <td>410.000000</td>\n",
              "    </tr>\n",
              "    <tr>\n",
              "      <th>mean</th>\n",
              "      <td>1.119512</td>\n",
              "      <td>419.173171</td>\n",
              "      <td>458.482927</td>\n",
              "    </tr>\n",
              "    <tr>\n",
              "      <th>std</th>\n",
              "      <td>0.346636</td>\n",
              "      <td>118.635918</td>\n",
              "      <td>127.455140</td>\n",
              "    </tr>\n",
              "    <tr>\n",
              "      <th>min</th>\n",
              "      <td>1.000000</td>\n",
              "      <td>58.000000</td>\n",
              "      <td>61.000000</td>\n",
              "    </tr>\n",
              "    <tr>\n",
              "      <th>25%</th>\n",
              "      <td>1.000000</td>\n",
              "      <td>361.000000</td>\n",
              "      <td>403.750000</td>\n",
              "    </tr>\n",
              "    <tr>\n",
              "      <th>50%</th>\n",
              "      <td>1.000000</td>\n",
              "      <td>432.500000</td>\n",
              "      <td>463.000000</td>\n",
              "    </tr>\n",
              "    <tr>\n",
              "      <th>75%</th>\n",
              "      <td>1.000000</td>\n",
              "      <td>490.000000</td>\n",
              "      <td>526.000000</td>\n",
              "    </tr>\n",
              "    <tr>\n",
              "      <th>max</th>\n",
              "      <td>3.000000</td>\n",
              "      <td>796.000000</td>\n",
              "      <td>961.000000</td>\n",
              "    </tr>\n",
              "  </tbody>\n",
              "</table>\n",
              "</div>"
            ],
            "text/plain": [
              "       TotalSleepRecords  TotalMinutesAsleep  TotalTimeInBed\n",
              "count         410.000000          410.000000      410.000000\n",
              "mean            1.119512          419.173171      458.482927\n",
              "std             0.346636          118.635918      127.455140\n",
              "min             1.000000           58.000000       61.000000\n",
              "25%             1.000000          361.000000      403.750000\n",
              "50%             1.000000          432.500000      463.000000\n",
              "75%             1.000000          490.000000      526.000000\n",
              "max             3.000000          796.000000      961.000000"
            ]
          },
          "metadata": {},
          "execution_count": 33
        }
      ]
    },
    {
      "cell_type": "markdown",
      "metadata": {
        "id": "DN8jCdgtRedy"
      },
      "source": [
        "We infer the follwoing points and tracks from the above table:-\n",
        "1. The maximum sleep hours in the data is 16 hours. Either there is fault in sensor or user is really sleeping for long durations. Recommended sleep hours is 7-9 hours for adults.\n",
        "2. Almost, 75% of the data is within the recommended limit."
      ]
    },
    {
      "cell_type": "markdown",
      "metadata": {
        "id": "ZTnQLYBqurJp"
      },
      "source": [
        "#### Working on 1st Point\n",
        "\n"
      ]
    },
    {
      "cell_type": "code",
      "metadata": {
        "colab": {
          "base_uri": "https://localhost:8080/",
          "height": 542
        },
        "id": "7JgdxQ4SReEE",
        "outputId": "b23cc819-168a-4a13-ade0-ee390b600a00"
      },
      "source": [
        "#First, checking for days where active minutes were less than 20 mins\n",
        "daily_activity_df[\"ActiveMinutes\"] = daily_activity_df[\"LightlyActiveMinutes\"] + daily_activity_df[\"FairlyActiveMinutes\"] + daily_activity_df[\"VeryActiveMinutes\"]\n",
        "px.scatter(daily_activity_df[daily_activity_df[\"ActiveMinutes\"] < 20],\"ActiveMinutes\",\"Calories\", title=\"Calories burned Vs Activity Minutes\")"
      ],
      "execution_count": 80,
      "outputs": [
        {
          "output_type": "display_data",
          "data": {
            "text/html": [
              "<html>\n",
              "<head><meta charset=\"utf-8\" /></head>\n",
              "<body>\n",
              "    <div>\n",
              "            <script src=\"https://cdnjs.cloudflare.com/ajax/libs/mathjax/2.7.5/MathJax.js?config=TeX-AMS-MML_SVG\"></script><script type=\"text/javascript\">if (window.MathJax) {MathJax.Hub.Config({SVG: {font: \"STIX-Web\"}});}</script>\n",
              "                <script type=\"text/javascript\">window.PlotlyConfig = {MathJaxConfig: 'local'};</script>\n",
              "        <script src=\"https://cdn.plot.ly/plotly-latest.min.js\"></script>    \n",
              "            <div id=\"e22877da-92cd-4c02-8bb4-53ae93ac05c8\" class=\"plotly-graph-div\" style=\"height:525px; width:100%;\"></div>\n",
              "            <script type=\"text/javascript\">\n",
              "                \n",
              "                    window.PLOTLYENV=window.PLOTLYENV || {};\n",
              "                    \n",
              "                if (document.getElementById(\"e22877da-92cd-4c02-8bb4-53ae93ac05c8\")) {\n",
              "                    Plotly.newPlot(\n",
              "                        'e22877da-92cd-4c02-8bb4-53ae93ac05c8',\n",
              "                        [{\"hoverlabel\": {\"namelength\": 0}, \"hovertemplate\": \"ActiveMinutes=%{x}<br>Calories=%{y}\", \"legendgroup\": \"\", \"marker\": {\"color\": \"#636efa\", \"symbol\": \"circle\"}, \"mode\": \"markers\", \"name\": \"\", \"showlegend\": false, \"type\": \"scatter\", \"x\": [0, 10, 1, 0, 0, 0, 1, 0, 2, 0, 0, 0, 0, 0, 0, 0, 0, 17, 0, 0, 0, 10, 12, 0, 0, 0, 0, 0, 0, 0, 0, 0, 17, 4, 13, 0, 3, 2, 2, 0, 0, 0, 0, 0, 0, 0, 0, 0, 0, 0, 0, 0, 0, 0, 3, 2, 0, 0, 0, 0, 0, 0, 0, 0, 0, 0, 0, 0, 0, 0, 0, 0, 0, 0, 0, 0, 1, 0, 0, 0, 0, 3, 0, 0, 0, 0, 0, 0, 0, 0, 12, 0, 0, 0, 9, 0, 0, 0, 0, 0, 0, 0], \"xaxis\": \"x\", \"y\": [0, 1366, 1349, 1347, 1347, 1347, 1348, 1348, 1351, 1347, 1347, 1347, 1347, 1347, 665, 2064, 2063, 2111, 2063, 2063, 2064, 2093, 2100, 2063, 2063, 2064, 2063, 2063, 2063, 2063, 2063, 1383, 1141, 403, 52, 1981, 2011, 1990, 1995, 1980, 1980, 1980, 1980, 1980, 1980, 1980, 1980, 1980, 1980, 1980, 1980, 1980, 1776, 2115, 1464, 257, 2955, 2017, 1819, 1819, 1496, 1496, 1496, 1497, 1496, 2060, 2060, 2060, 0, 1841, 1841, 1841, 1841, 1841, 1841, 1841, 1843, 1841, 1841, 1557, 120, 1635, 1629, 0, 2693, 2439, 2894, 3212, 2516, 0, 1721, 1688, 1688, 1688, 1720, 1688, 1688, 1688, 1688, 1688, 1688, 57], \"yaxis\": \"y\"}],\n",
              "                        {\"legend\": {\"tracegroupgap\": 0}, \"template\": {\"data\": {\"bar\": [{\"error_x\": {\"color\": \"#2a3f5f\"}, \"error_y\": {\"color\": \"#2a3f5f\"}, \"marker\": {\"line\": {\"color\": \"#E5ECF6\", \"width\": 0.5}}, \"type\": \"bar\"}], \"barpolar\": [{\"marker\": {\"line\": {\"color\": \"#E5ECF6\", \"width\": 0.5}}, \"type\": \"barpolar\"}], \"carpet\": [{\"aaxis\": {\"endlinecolor\": \"#2a3f5f\", \"gridcolor\": \"white\", \"linecolor\": \"white\", \"minorgridcolor\": \"white\", \"startlinecolor\": \"#2a3f5f\"}, \"baxis\": {\"endlinecolor\": \"#2a3f5f\", \"gridcolor\": \"white\", \"linecolor\": \"white\", \"minorgridcolor\": \"white\", \"startlinecolor\": \"#2a3f5f\"}, \"type\": \"carpet\"}], \"choropleth\": [{\"colorbar\": {\"outlinewidth\": 0, \"ticks\": \"\"}, \"type\": \"choropleth\"}], \"contour\": [{\"colorbar\": {\"outlinewidth\": 0, \"ticks\": \"\"}, \"colorscale\": [[0.0, \"#0d0887\"], [0.1111111111111111, \"#46039f\"], [0.2222222222222222, \"#7201a8\"], [0.3333333333333333, \"#9c179e\"], [0.4444444444444444, \"#bd3786\"], [0.5555555555555556, \"#d8576b\"], [0.6666666666666666, \"#ed7953\"], [0.7777777777777778, \"#fb9f3a\"], [0.8888888888888888, \"#fdca26\"], [1.0, \"#f0f921\"]], \"type\": \"contour\"}], \"contourcarpet\": [{\"colorbar\": {\"outlinewidth\": 0, \"ticks\": \"\"}, \"type\": \"contourcarpet\"}], \"heatmap\": [{\"colorbar\": {\"outlinewidth\": 0, \"ticks\": \"\"}, \"colorscale\": [[0.0, \"#0d0887\"], [0.1111111111111111, \"#46039f\"], [0.2222222222222222, \"#7201a8\"], [0.3333333333333333, \"#9c179e\"], [0.4444444444444444, \"#bd3786\"], [0.5555555555555556, \"#d8576b\"], [0.6666666666666666, \"#ed7953\"], [0.7777777777777778, \"#fb9f3a\"], [0.8888888888888888, \"#fdca26\"], [1.0, \"#f0f921\"]], \"type\": \"heatmap\"}], \"heatmapgl\": [{\"colorbar\": {\"outlinewidth\": 0, \"ticks\": \"\"}, \"colorscale\": [[0.0, \"#0d0887\"], [0.1111111111111111, \"#46039f\"], [0.2222222222222222, \"#7201a8\"], [0.3333333333333333, \"#9c179e\"], [0.4444444444444444, \"#bd3786\"], [0.5555555555555556, \"#d8576b\"], [0.6666666666666666, \"#ed7953\"], [0.7777777777777778, \"#fb9f3a\"], [0.8888888888888888, \"#fdca26\"], [1.0, \"#f0f921\"]], \"type\": \"heatmapgl\"}], \"histogram\": [{\"marker\": {\"colorbar\": {\"outlinewidth\": 0, \"ticks\": \"\"}}, \"type\": \"histogram\"}], \"histogram2d\": [{\"colorbar\": {\"outlinewidth\": 0, \"ticks\": \"\"}, \"colorscale\": [[0.0, \"#0d0887\"], [0.1111111111111111, \"#46039f\"], [0.2222222222222222, \"#7201a8\"], [0.3333333333333333, \"#9c179e\"], [0.4444444444444444, \"#bd3786\"], [0.5555555555555556, \"#d8576b\"], [0.6666666666666666, \"#ed7953\"], [0.7777777777777778, \"#fb9f3a\"], [0.8888888888888888, \"#fdca26\"], [1.0, \"#f0f921\"]], \"type\": \"histogram2d\"}], \"histogram2dcontour\": [{\"colorbar\": {\"outlinewidth\": 0, \"ticks\": \"\"}, \"colorscale\": [[0.0, \"#0d0887\"], [0.1111111111111111, \"#46039f\"], [0.2222222222222222, \"#7201a8\"], [0.3333333333333333, \"#9c179e\"], [0.4444444444444444, \"#bd3786\"], [0.5555555555555556, \"#d8576b\"], [0.6666666666666666, \"#ed7953\"], [0.7777777777777778, \"#fb9f3a\"], [0.8888888888888888, \"#fdca26\"], [1.0, \"#f0f921\"]], \"type\": \"histogram2dcontour\"}], \"mesh3d\": [{\"colorbar\": {\"outlinewidth\": 0, \"ticks\": \"\"}, \"type\": \"mesh3d\"}], \"parcoords\": [{\"line\": {\"colorbar\": {\"outlinewidth\": 0, \"ticks\": \"\"}}, \"type\": \"parcoords\"}], \"pie\": [{\"automargin\": true, \"type\": \"pie\"}], \"scatter\": [{\"marker\": {\"colorbar\": {\"outlinewidth\": 0, \"ticks\": \"\"}}, \"type\": \"scatter\"}], \"scatter3d\": [{\"line\": {\"colorbar\": {\"outlinewidth\": 0, \"ticks\": \"\"}}, \"marker\": {\"colorbar\": {\"outlinewidth\": 0, \"ticks\": \"\"}}, \"type\": \"scatter3d\"}], \"scattercarpet\": [{\"marker\": {\"colorbar\": {\"outlinewidth\": 0, \"ticks\": \"\"}}, \"type\": \"scattercarpet\"}], \"scattergeo\": [{\"marker\": {\"colorbar\": {\"outlinewidth\": 0, \"ticks\": \"\"}}, \"type\": \"scattergeo\"}], \"scattergl\": [{\"marker\": {\"colorbar\": {\"outlinewidth\": 0, \"ticks\": \"\"}}, \"type\": \"scattergl\"}], \"scattermapbox\": [{\"marker\": {\"colorbar\": {\"outlinewidth\": 0, \"ticks\": \"\"}}, \"type\": \"scattermapbox\"}], \"scatterpolar\": [{\"marker\": {\"colorbar\": {\"outlinewidth\": 0, \"ticks\": \"\"}}, \"type\": \"scatterpolar\"}], \"scatterpolargl\": [{\"marker\": {\"colorbar\": {\"outlinewidth\": 0, \"ticks\": \"\"}}, \"type\": \"scatterpolargl\"}], \"scatterternary\": [{\"marker\": {\"colorbar\": {\"outlinewidth\": 0, \"ticks\": \"\"}}, \"type\": \"scatterternary\"}], \"surface\": [{\"colorbar\": {\"outlinewidth\": 0, \"ticks\": \"\"}, \"colorscale\": [[0.0, \"#0d0887\"], [0.1111111111111111, \"#46039f\"], [0.2222222222222222, \"#7201a8\"], [0.3333333333333333, \"#9c179e\"], [0.4444444444444444, \"#bd3786\"], [0.5555555555555556, \"#d8576b\"], [0.6666666666666666, \"#ed7953\"], [0.7777777777777778, \"#fb9f3a\"], [0.8888888888888888, \"#fdca26\"], [1.0, \"#f0f921\"]], \"type\": \"surface\"}], \"table\": [{\"cells\": {\"fill\": {\"color\": \"#EBF0F8\"}, \"line\": {\"color\": \"white\"}}, \"header\": {\"fill\": {\"color\": \"#C8D4E3\"}, \"line\": {\"color\": \"white\"}}, \"type\": \"table\"}]}, \"layout\": {\"annotationdefaults\": {\"arrowcolor\": \"#2a3f5f\", \"arrowhead\": 0, \"arrowwidth\": 1}, \"coloraxis\": {\"colorbar\": {\"outlinewidth\": 0, \"ticks\": \"\"}}, \"colorscale\": {\"diverging\": [[0, \"#8e0152\"], [0.1, \"#c51b7d\"], [0.2, \"#de77ae\"], [0.3, \"#f1b6da\"], [0.4, \"#fde0ef\"], [0.5, \"#f7f7f7\"], [0.6, \"#e6f5d0\"], [0.7, \"#b8e186\"], [0.8, \"#7fbc41\"], [0.9, \"#4d9221\"], [1, \"#276419\"]], \"sequential\": [[0.0, \"#0d0887\"], [0.1111111111111111, \"#46039f\"], [0.2222222222222222, \"#7201a8\"], [0.3333333333333333, \"#9c179e\"], [0.4444444444444444, \"#bd3786\"], [0.5555555555555556, \"#d8576b\"], [0.6666666666666666, \"#ed7953\"], [0.7777777777777778, \"#fb9f3a\"], [0.8888888888888888, \"#fdca26\"], [1.0, \"#f0f921\"]], \"sequentialminus\": [[0.0, \"#0d0887\"], [0.1111111111111111, \"#46039f\"], [0.2222222222222222, \"#7201a8\"], [0.3333333333333333, \"#9c179e\"], [0.4444444444444444, \"#bd3786\"], [0.5555555555555556, \"#d8576b\"], [0.6666666666666666, \"#ed7953\"], [0.7777777777777778, \"#fb9f3a\"], [0.8888888888888888, \"#fdca26\"], [1.0, \"#f0f921\"]]}, \"colorway\": [\"#636efa\", \"#EF553B\", \"#00cc96\", \"#ab63fa\", \"#FFA15A\", \"#19d3f3\", \"#FF6692\", \"#B6E880\", \"#FF97FF\", \"#FECB52\"], \"font\": {\"color\": \"#2a3f5f\"}, \"geo\": {\"bgcolor\": \"white\", \"lakecolor\": \"white\", \"landcolor\": \"#E5ECF6\", \"showlakes\": true, \"showland\": true, \"subunitcolor\": \"white\"}, \"hoverlabel\": {\"align\": \"left\"}, \"hovermode\": \"closest\", \"mapbox\": {\"style\": \"light\"}, \"paper_bgcolor\": \"white\", \"plot_bgcolor\": \"#E5ECF6\", \"polar\": {\"angularaxis\": {\"gridcolor\": \"white\", \"linecolor\": \"white\", \"ticks\": \"\"}, \"bgcolor\": \"#E5ECF6\", \"radialaxis\": {\"gridcolor\": \"white\", \"linecolor\": \"white\", \"ticks\": \"\"}}, \"scene\": {\"xaxis\": {\"backgroundcolor\": \"#E5ECF6\", \"gridcolor\": \"white\", \"gridwidth\": 2, \"linecolor\": \"white\", \"showbackground\": true, \"ticks\": \"\", \"zerolinecolor\": \"white\"}, \"yaxis\": {\"backgroundcolor\": \"#E5ECF6\", \"gridcolor\": \"white\", \"gridwidth\": 2, \"linecolor\": \"white\", \"showbackground\": true, \"ticks\": \"\", \"zerolinecolor\": \"white\"}, \"zaxis\": {\"backgroundcolor\": \"#E5ECF6\", \"gridcolor\": \"white\", \"gridwidth\": 2, \"linecolor\": \"white\", \"showbackground\": true, \"ticks\": \"\", \"zerolinecolor\": \"white\"}}, \"shapedefaults\": {\"line\": {\"color\": \"#2a3f5f\"}}, \"ternary\": {\"aaxis\": {\"gridcolor\": \"white\", \"linecolor\": \"white\", \"ticks\": \"\"}, \"baxis\": {\"gridcolor\": \"white\", \"linecolor\": \"white\", \"ticks\": \"\"}, \"bgcolor\": \"#E5ECF6\", \"caxis\": {\"gridcolor\": \"white\", \"linecolor\": \"white\", \"ticks\": \"\"}}, \"title\": {\"x\": 0.05}, \"xaxis\": {\"automargin\": true, \"gridcolor\": \"white\", \"linecolor\": \"white\", \"ticks\": \"\", \"title\": {\"standoff\": 15}, \"zerolinecolor\": \"white\", \"zerolinewidth\": 2}, \"yaxis\": {\"automargin\": true, \"gridcolor\": \"white\", \"linecolor\": \"white\", \"ticks\": \"\", \"title\": {\"standoff\": 15}, \"zerolinecolor\": \"white\", \"zerolinewidth\": 2}}}, \"title\": {\"text\": \"Calories burned Vs Activity Minutes\"}, \"xaxis\": {\"anchor\": \"y\", \"domain\": [0.0, 1.0], \"title\": {\"text\": \"ActiveMinutes\"}}, \"yaxis\": {\"anchor\": \"x\", \"domain\": [0.0, 1.0], \"title\": {\"text\": \"Calories\"}}},\n",
              "                        {\"responsive\": true}\n",
              "                    ).then(function(){\n",
              "                            \n",
              "var gd = document.getElementById('e22877da-92cd-4c02-8bb4-53ae93ac05c8');\n",
              "var x = new MutationObserver(function (mutations, observer) {{\n",
              "        var display = window.getComputedStyle(gd).display;\n",
              "        if (!display || display === 'none') {{\n",
              "            console.log([gd, 'removed!']);\n",
              "            Plotly.purge(gd);\n",
              "            observer.disconnect();\n",
              "        }}\n",
              "}});\n",
              "\n",
              "// Listen for the removal of the full notebook cells\n",
              "var notebookContainer = gd.closest('#notebook-container');\n",
              "if (notebookContainer) {{\n",
              "    x.observe(notebookContainer, {childList: true});\n",
              "}}\n",
              "\n",
              "// Listen for the clearing of the current output cell\n",
              "var outputEl = gd.closest('.output');\n",
              "if (outputEl) {{\n",
              "    x.observe(outputEl, {childList: true});\n",
              "}}\n",
              "\n",
              "                        })\n",
              "                };\n",
              "                \n",
              "            </script>\n",
              "        </div>\n",
              "</body>\n",
              "</html>"
            ]
          },
          "metadata": {}
        }
      ]
    },
    {
      "cell_type": "code",
      "metadata": {
        "colab": {
          "base_uri": "https://localhost:8080/",
          "height": 542
        },
        "id": "yST86wcmQrRb",
        "outputId": "158304aa-c881-49e4-901a-70af2064c60f"
      },
      "source": [
        "#Checking further for anu inflence of sedentary activity\n",
        "px.scatter(daily_activity_df[daily_activity_df[\"ActiveMinutes\"] < 20],\"SedentaryMinutes\",\"Calories\", title=\"Calories burned by activity less than 20 mins\")"
      ],
      "execution_count": 77,
      "outputs": [
        {
          "output_type": "display_data",
          "data": {
            "text/html": [
              "<html>\n",
              "<head><meta charset=\"utf-8\" /></head>\n",
              "<body>\n",
              "    <div>\n",
              "            <script src=\"https://cdnjs.cloudflare.com/ajax/libs/mathjax/2.7.5/MathJax.js?config=TeX-AMS-MML_SVG\"></script><script type=\"text/javascript\">if (window.MathJax) {MathJax.Hub.Config({SVG: {font: \"STIX-Web\"}});}</script>\n",
              "                <script type=\"text/javascript\">window.PlotlyConfig = {MathJaxConfig: 'local'};</script>\n",
              "        <script src=\"https://cdn.plot.ly/plotly-latest.min.js\"></script>    \n",
              "            <div id=\"c5445edf-e786-41c8-ba1d-61779a397295\" class=\"plotly-graph-div\" style=\"height:525px; width:100%;\"></div>\n",
              "            <script type=\"text/javascript\">\n",
              "                \n",
              "                    window.PLOTLYENV=window.PLOTLYENV || {};\n",
              "                    \n",
              "                if (document.getElementById(\"c5445edf-e786-41c8-ba1d-61779a397295\")) {\n",
              "                    Plotly.newPlot(\n",
              "                        'c5445edf-e786-41c8-ba1d-61779a397295',\n",
              "                        [{\"hoverlabel\": {\"namelength\": 0}, \"hovertemplate\": \"SedentaryMinutes=%{x}<br>Calories=%{y}\", \"legendgroup\": \"\", \"marker\": {\"color\": \"#636efa\", \"symbol\": \"circle\"}, \"mode\": \"markers\", \"name\": \"\", \"showlegend\": false, \"type\": \"scatter\", \"x\": [1440, 1430, 1439, 1440, 1440, 1440, 1439, 1440, 1438, 1440, 1440, 1440, 1440, 1440, 711, 1440, 1440, 1423, 1440, 1440, 1440, 1430, 1303, 1440, 1440, 1440, 1440, 1440, 1440, 1440, 1440, 966, 1002, 2, 13, 1440, 1437, 1438, 1438, 1440, 1440, 1440, 1440, 1440, 1440, 1440, 1440, 1440, 1440, 1440, 1440, 1440, 1440, 1440, 1363, 0, 1440, 1440, 1440, 1440, 1440, 1440, 1440, 1440, 1440, 1440, 1440, 1440, 1440, 1440, 1440, 1440, 1440, 1440, 1440, 1440, 1439, 1440, 1440, 1440, 111, 1437, 1440, 1440, 1440, 1440, 1440, 1440, 1440, 1440, 1428, 1440, 1440, 1440, 1431, 1440, 1440, 1440, 1440, 1440, 1440, 48], \"xaxis\": \"x\", \"y\": [0, 1366, 1349, 1347, 1347, 1347, 1348, 1348, 1351, 1347, 1347, 1347, 1347, 1347, 665, 2064, 2063, 2111, 2063, 2063, 2064, 2093, 2100, 2063, 2063, 2064, 2063, 2063, 2063, 2063, 2063, 1383, 1141, 403, 52, 1981, 2011, 1990, 1995, 1980, 1980, 1980, 1980, 1980, 1980, 1980, 1980, 1980, 1980, 1980, 1980, 1980, 1776, 2115, 1464, 257, 2955, 2017, 1819, 1819, 1496, 1496, 1496, 1497, 1496, 2060, 2060, 2060, 0, 1841, 1841, 1841, 1841, 1841, 1841, 1841, 1843, 1841, 1841, 1557, 120, 1635, 1629, 0, 2693, 2439, 2894, 3212, 2516, 0, 1721, 1688, 1688, 1688, 1720, 1688, 1688, 1688, 1688, 1688, 1688, 57], \"yaxis\": \"y\"}],\n",
              "                        {\"legend\": {\"tracegroupgap\": 0}, \"template\": {\"data\": {\"bar\": [{\"error_x\": {\"color\": \"#2a3f5f\"}, \"error_y\": {\"color\": \"#2a3f5f\"}, \"marker\": {\"line\": {\"color\": \"#E5ECF6\", \"width\": 0.5}}, \"type\": \"bar\"}], \"barpolar\": [{\"marker\": {\"line\": {\"color\": \"#E5ECF6\", \"width\": 0.5}}, \"type\": \"barpolar\"}], \"carpet\": [{\"aaxis\": {\"endlinecolor\": \"#2a3f5f\", \"gridcolor\": \"white\", \"linecolor\": \"white\", \"minorgridcolor\": \"white\", \"startlinecolor\": \"#2a3f5f\"}, \"baxis\": {\"endlinecolor\": \"#2a3f5f\", \"gridcolor\": \"white\", \"linecolor\": \"white\", \"minorgridcolor\": \"white\", \"startlinecolor\": \"#2a3f5f\"}, \"type\": \"carpet\"}], \"choropleth\": [{\"colorbar\": {\"outlinewidth\": 0, \"ticks\": \"\"}, \"type\": \"choropleth\"}], \"contour\": [{\"colorbar\": {\"outlinewidth\": 0, \"ticks\": \"\"}, \"colorscale\": [[0.0, \"#0d0887\"], [0.1111111111111111, \"#46039f\"], [0.2222222222222222, \"#7201a8\"], [0.3333333333333333, \"#9c179e\"], [0.4444444444444444, \"#bd3786\"], [0.5555555555555556, \"#d8576b\"], [0.6666666666666666, \"#ed7953\"], [0.7777777777777778, \"#fb9f3a\"], [0.8888888888888888, \"#fdca26\"], [1.0, \"#f0f921\"]], \"type\": \"contour\"}], \"contourcarpet\": [{\"colorbar\": {\"outlinewidth\": 0, \"ticks\": \"\"}, \"type\": \"contourcarpet\"}], \"heatmap\": [{\"colorbar\": {\"outlinewidth\": 0, \"ticks\": \"\"}, \"colorscale\": [[0.0, \"#0d0887\"], [0.1111111111111111, \"#46039f\"], [0.2222222222222222, \"#7201a8\"], [0.3333333333333333, \"#9c179e\"], [0.4444444444444444, \"#bd3786\"], [0.5555555555555556, \"#d8576b\"], [0.6666666666666666, \"#ed7953\"], [0.7777777777777778, \"#fb9f3a\"], [0.8888888888888888, \"#fdca26\"], [1.0, \"#f0f921\"]], \"type\": \"heatmap\"}], \"heatmapgl\": [{\"colorbar\": {\"outlinewidth\": 0, \"ticks\": \"\"}, \"colorscale\": [[0.0, \"#0d0887\"], [0.1111111111111111, \"#46039f\"], [0.2222222222222222, \"#7201a8\"], [0.3333333333333333, \"#9c179e\"], [0.4444444444444444, \"#bd3786\"], [0.5555555555555556, \"#d8576b\"], [0.6666666666666666, \"#ed7953\"], [0.7777777777777778, \"#fb9f3a\"], [0.8888888888888888, \"#fdca26\"], [1.0, \"#f0f921\"]], \"type\": \"heatmapgl\"}], \"histogram\": [{\"marker\": {\"colorbar\": {\"outlinewidth\": 0, \"ticks\": \"\"}}, \"type\": \"histogram\"}], \"histogram2d\": [{\"colorbar\": {\"outlinewidth\": 0, \"ticks\": \"\"}, \"colorscale\": [[0.0, \"#0d0887\"], [0.1111111111111111, \"#46039f\"], [0.2222222222222222, \"#7201a8\"], [0.3333333333333333, \"#9c179e\"], [0.4444444444444444, \"#bd3786\"], [0.5555555555555556, \"#d8576b\"], [0.6666666666666666, \"#ed7953\"], [0.7777777777777778, \"#fb9f3a\"], [0.8888888888888888, \"#fdca26\"], [1.0, \"#f0f921\"]], \"type\": \"histogram2d\"}], \"histogram2dcontour\": [{\"colorbar\": {\"outlinewidth\": 0, \"ticks\": \"\"}, \"colorscale\": [[0.0, \"#0d0887\"], [0.1111111111111111, \"#46039f\"], [0.2222222222222222, \"#7201a8\"], [0.3333333333333333, \"#9c179e\"], [0.4444444444444444, \"#bd3786\"], [0.5555555555555556, \"#d8576b\"], [0.6666666666666666, \"#ed7953\"], [0.7777777777777778, \"#fb9f3a\"], [0.8888888888888888, \"#fdca26\"], [1.0, \"#f0f921\"]], \"type\": \"histogram2dcontour\"}], \"mesh3d\": [{\"colorbar\": {\"outlinewidth\": 0, \"ticks\": \"\"}, \"type\": \"mesh3d\"}], \"parcoords\": [{\"line\": {\"colorbar\": {\"outlinewidth\": 0, \"ticks\": \"\"}}, \"type\": \"parcoords\"}], \"pie\": [{\"automargin\": true, \"type\": \"pie\"}], \"scatter\": [{\"marker\": {\"colorbar\": {\"outlinewidth\": 0, \"ticks\": \"\"}}, \"type\": \"scatter\"}], \"scatter3d\": [{\"line\": {\"colorbar\": {\"outlinewidth\": 0, \"ticks\": \"\"}}, \"marker\": {\"colorbar\": {\"outlinewidth\": 0, \"ticks\": \"\"}}, \"type\": \"scatter3d\"}], \"scattercarpet\": [{\"marker\": {\"colorbar\": {\"outlinewidth\": 0, \"ticks\": \"\"}}, \"type\": \"scattercarpet\"}], \"scattergeo\": [{\"marker\": {\"colorbar\": {\"outlinewidth\": 0, \"ticks\": \"\"}}, \"type\": \"scattergeo\"}], \"scattergl\": [{\"marker\": {\"colorbar\": {\"outlinewidth\": 0, \"ticks\": \"\"}}, \"type\": \"scattergl\"}], \"scattermapbox\": [{\"marker\": {\"colorbar\": {\"outlinewidth\": 0, \"ticks\": \"\"}}, \"type\": \"scattermapbox\"}], \"scatterpolar\": [{\"marker\": {\"colorbar\": {\"outlinewidth\": 0, \"ticks\": \"\"}}, \"type\": \"scatterpolar\"}], \"scatterpolargl\": [{\"marker\": {\"colorbar\": {\"outlinewidth\": 0, \"ticks\": \"\"}}, \"type\": \"scatterpolargl\"}], \"scatterternary\": [{\"marker\": {\"colorbar\": {\"outlinewidth\": 0, \"ticks\": \"\"}}, \"type\": \"scatterternary\"}], \"surface\": [{\"colorbar\": {\"outlinewidth\": 0, \"ticks\": \"\"}, \"colorscale\": [[0.0, \"#0d0887\"], [0.1111111111111111, \"#46039f\"], [0.2222222222222222, \"#7201a8\"], [0.3333333333333333, \"#9c179e\"], [0.4444444444444444, \"#bd3786\"], [0.5555555555555556, \"#d8576b\"], [0.6666666666666666, \"#ed7953\"], [0.7777777777777778, \"#fb9f3a\"], [0.8888888888888888, \"#fdca26\"], [1.0, \"#f0f921\"]], \"type\": \"surface\"}], \"table\": [{\"cells\": {\"fill\": {\"color\": \"#EBF0F8\"}, \"line\": {\"color\": \"white\"}}, \"header\": {\"fill\": {\"color\": \"#C8D4E3\"}, \"line\": {\"color\": \"white\"}}, \"type\": \"table\"}]}, \"layout\": {\"annotationdefaults\": {\"arrowcolor\": \"#2a3f5f\", \"arrowhead\": 0, \"arrowwidth\": 1}, \"coloraxis\": {\"colorbar\": {\"outlinewidth\": 0, \"ticks\": \"\"}}, \"colorscale\": {\"diverging\": [[0, \"#8e0152\"], [0.1, \"#c51b7d\"], [0.2, \"#de77ae\"], [0.3, \"#f1b6da\"], [0.4, \"#fde0ef\"], [0.5, \"#f7f7f7\"], [0.6, \"#e6f5d0\"], [0.7, \"#b8e186\"], [0.8, \"#7fbc41\"], [0.9, \"#4d9221\"], [1, \"#276419\"]], \"sequential\": [[0.0, \"#0d0887\"], [0.1111111111111111, \"#46039f\"], [0.2222222222222222, \"#7201a8\"], [0.3333333333333333, \"#9c179e\"], [0.4444444444444444, \"#bd3786\"], [0.5555555555555556, \"#d8576b\"], [0.6666666666666666, \"#ed7953\"], [0.7777777777777778, \"#fb9f3a\"], [0.8888888888888888, \"#fdca26\"], [1.0, \"#f0f921\"]], \"sequentialminus\": [[0.0, \"#0d0887\"], [0.1111111111111111, \"#46039f\"], [0.2222222222222222, \"#7201a8\"], [0.3333333333333333, \"#9c179e\"], [0.4444444444444444, \"#bd3786\"], [0.5555555555555556, \"#d8576b\"], [0.6666666666666666, \"#ed7953\"], [0.7777777777777778, \"#fb9f3a\"], [0.8888888888888888, \"#fdca26\"], [1.0, \"#f0f921\"]]}, \"colorway\": [\"#636efa\", \"#EF553B\", \"#00cc96\", \"#ab63fa\", \"#FFA15A\", \"#19d3f3\", \"#FF6692\", \"#B6E880\", \"#FF97FF\", \"#FECB52\"], \"font\": {\"color\": \"#2a3f5f\"}, \"geo\": {\"bgcolor\": \"white\", \"lakecolor\": \"white\", \"landcolor\": \"#E5ECF6\", \"showlakes\": true, \"showland\": true, \"subunitcolor\": \"white\"}, \"hoverlabel\": {\"align\": \"left\"}, \"hovermode\": \"closest\", \"mapbox\": {\"style\": \"light\"}, \"paper_bgcolor\": \"white\", \"plot_bgcolor\": \"#E5ECF6\", \"polar\": {\"angularaxis\": {\"gridcolor\": \"white\", \"linecolor\": \"white\", \"ticks\": \"\"}, \"bgcolor\": \"#E5ECF6\", \"radialaxis\": {\"gridcolor\": \"white\", \"linecolor\": \"white\", \"ticks\": \"\"}}, \"scene\": {\"xaxis\": {\"backgroundcolor\": \"#E5ECF6\", \"gridcolor\": \"white\", \"gridwidth\": 2, \"linecolor\": \"white\", \"showbackground\": true, \"ticks\": \"\", \"zerolinecolor\": \"white\"}, \"yaxis\": {\"backgroundcolor\": \"#E5ECF6\", \"gridcolor\": \"white\", \"gridwidth\": 2, \"linecolor\": \"white\", \"showbackground\": true, \"ticks\": \"\", \"zerolinecolor\": \"white\"}, \"zaxis\": {\"backgroundcolor\": \"#E5ECF6\", \"gridcolor\": \"white\", \"gridwidth\": 2, \"linecolor\": \"white\", \"showbackground\": true, \"ticks\": \"\", \"zerolinecolor\": \"white\"}}, \"shapedefaults\": {\"line\": {\"color\": \"#2a3f5f\"}}, \"ternary\": {\"aaxis\": {\"gridcolor\": \"white\", \"linecolor\": \"white\", \"ticks\": \"\"}, \"baxis\": {\"gridcolor\": \"white\", \"linecolor\": \"white\", \"ticks\": \"\"}, \"bgcolor\": \"#E5ECF6\", \"caxis\": {\"gridcolor\": \"white\", \"linecolor\": \"white\", \"ticks\": \"\"}}, \"title\": {\"x\": 0.05}, \"xaxis\": {\"automargin\": true, \"gridcolor\": \"white\", \"linecolor\": \"white\", \"ticks\": \"\", \"title\": {\"standoff\": 15}, \"zerolinecolor\": \"white\", \"zerolinewidth\": 2}, \"yaxis\": {\"automargin\": true, \"gridcolor\": \"white\", \"linecolor\": \"white\", \"ticks\": \"\", \"title\": {\"standoff\": 15}, \"zerolinecolor\": \"white\", \"zerolinewidth\": 2}}}, \"title\": {\"text\": \"Calories burned by activity less than 20 mins\"}, \"xaxis\": {\"anchor\": \"y\", \"domain\": [0.0, 1.0], \"title\": {\"text\": \"SedentaryMinutes\"}}, \"yaxis\": {\"anchor\": \"x\", \"domain\": [0.0, 1.0], \"title\": {\"text\": \"Calories\"}}},\n",
              "                        {\"responsive\": true}\n",
              "                    ).then(function(){\n",
              "                            \n",
              "var gd = document.getElementById('c5445edf-e786-41c8-ba1d-61779a397295');\n",
              "var x = new MutationObserver(function (mutations, observer) {{\n",
              "        var display = window.getComputedStyle(gd).display;\n",
              "        if (!display || display === 'none') {{\n",
              "            console.log([gd, 'removed!']);\n",
              "            Plotly.purge(gd);\n",
              "            observer.disconnect();\n",
              "        }}\n",
              "}});\n",
              "\n",
              "// Listen for the removal of the full notebook cells\n",
              "var notebookContainer = gd.closest('#notebook-container');\n",
              "if (notebookContainer) {{\n",
              "    x.observe(notebookContainer, {childList: true});\n",
              "}}\n",
              "\n",
              "// Listen for the clearing of the current output cell\n",
              "var outputEl = gd.closest('.output');\n",
              "if (outputEl) {{\n",
              "    x.observe(outputEl, {childList: true});\n",
              "}}\n",
              "\n",
              "                        })\n",
              "                };\n",
              "                \n",
              "            </script>\n",
              "        </div>\n",
              "</body>\n",
              "</html>"
            ]
          },
          "metadata": {}
        }
      ]
    },
    {
      "cell_type": "markdown",
      "metadata": {
        "id": "RAxvgNq-EDYd"
      },
      "source": [
        "Above is the data for the calories burned for an active activity of less than 20 mins. We can see that it is highly influenced by sedentary activity."
      ]
    },
    {
      "cell_type": "markdown",
      "metadata": {
        "id": "LJWKyWvgTXCQ"
      },
      "source": [
        "#### Working on 2nd Point"
      ]
    },
    {
      "cell_type": "code",
      "metadata": {
        "colab": {
          "base_uri": "https://localhost:8080/"
        },
        "id": "xjaRwZ8TqOqk",
        "outputId": "82b53fd4-df13-4111-ff14-316d975bcd3b"
      },
      "source": [
        "#We will now check for those entries where logged activity distance is greater than zero\n",
        "daily_activity_df[daily_activity_df[\"LoggedActivitiesDistance\"] > 0].shape[0]"
      ],
      "execution_count": 143,
      "outputs": [
        {
          "output_type": "execute_result",
          "data": {
            "text/plain": [
              "32"
            ]
          },
          "metadata": {},
          "execution_count": 143
        }
      ]
    },
    {
      "cell_type": "markdown",
      "metadata": {
        "id": "bMQXhEp8UDPQ"
      },
      "source": [
        "From here, we can say that either users do not tick after a challenge set by the admin is complete or the engagement is quite low."
      ]
    },
    {
      "cell_type": "markdown",
      "metadata": {
        "id": "X6YD0vw-UeUi"
      },
      "source": [
        "#### Working on 3rd Point"
      ]
    },
    {
      "cell_type": "markdown",
      "metadata": {
        "id": "IOD9eb73Ul06"
      },
      "source": [
        "Now, we will check for calories Vs Steps to see any trends from the data"
      ]
    },
    {
      "cell_type": "code",
      "metadata": {
        "colab": {
          "base_uri": "https://localhost:8080/",
          "height": 542
        },
        "id": "14OH41IaGTOP",
        "outputId": "c33016b7-a86c-499b-a7ee-86ba4a830992"
      },
      "source": [
        "px.scatter(daily_activity_df,\"SedentaryMinutes\",\"TotalSteps\")"
      ],
      "execution_count": 149,
      "outputs": [
        {
          "output_type": "display_data",
          "data": {
            "text/html": [
              "<html>\n",
              "<head><meta charset=\"utf-8\" /></head>\n",
              "<body>\n",
              "    <div>\n",
              "            <script src=\"https://cdnjs.cloudflare.com/ajax/libs/mathjax/2.7.5/MathJax.js?config=TeX-AMS-MML_SVG\"></script><script type=\"text/javascript\">if (window.MathJax) {MathJax.Hub.Config({SVG: {font: \"STIX-Web\"}});}</script>\n",
              "                <script type=\"text/javascript\">window.PlotlyConfig = {MathJaxConfig: 'local'};</script>\n",
              "        <script src=\"https://cdn.plot.ly/plotly-latest.min.js\"></script>    \n",
              "            <div id=\"7189bb3b-ec80-4aaa-8897-243fe3afd9e7\" class=\"plotly-graph-div\" style=\"height:525px; width:100%;\"></div>\n",
              "            <script type=\"text/javascript\">\n",
              "                \n",
              "                    window.PLOTLYENV=window.PLOTLYENV || {};\n",
              "                    \n",
              "                if (document.getElementById(\"7189bb3b-ec80-4aaa-8897-243fe3afd9e7\")) {\n",
              "                    Plotly.newPlot(\n",
              "                        '7189bb3b-ec80-4aaa-8897-243fe3afd9e7',\n",
              "                        [{\"hoverlabel\": {\"namelength\": 0}, \"hovertemplate\": \"SedentaryMinutes=%{x}<br>TotalSteps=%{y}\", \"legendgroup\": \"\", \"marker\": {\"color\": \"#636efa\", \"symbol\": \"circle\"}, \"mode\": \"markers\", \"name\": \"\", \"showlegend\": false, \"type\": \"scatter\", \"x\": [728, 776, 1218, 726, 773, 539, 1149, 775, 818, 838, 1217, 732, 709, 814, 833, 1108, 782, 815, 712, 730, 798, 816, 1179, 857, 754, 833, 574, 835, 746, 669, 1440, 1294, 1292, 1204, 1344, 1264, 1276, 1214, 1299, 1289, 1254, 1241, 1213, 1221, 1238, 1300, 1233, 1320, 1290, 1182, 1020, 1261, 1344, 1322, 1323, 1338, 1258, 1288, 1349, 1301, 1328, 890, 1131, 1259, 1125, 1263, 1135, 1212, 1271, 1099, 1315, 1402, 1354, 1265, 1351, 1337, 1165, 1322, 1157, 1193, 816, 908, 682, 1115, 1388, 1341, 1054, 1139, 991, 1099, 1254, 713, 1101, 1192, 843, 527, 1293, 1231, 1211, 1430, 1439, 1117, 1220, 1301, 1440, 1440, 1440, 1439, 1138, 1082, 218, 585, 1440, 1256, 1353, 1320, 1438, 1440, 1440, 1440, 1440, 1440, 711, 734, 986, 1292, 941, 1440, 1440, 1423, 1440, 1440, 1440, 1430, 1295, 1358, 1303, 1058, 1440, 1167, 1440, 1440, 1355, 1322, 1413, 1353, 1440, 1332, 1392, 1440, 1440, 1440, 1440, 966, 1157, 1100, 1148, 1122, 1237, 1052, 1078, 1152, 1053, 1028, 1105, 1191, 1161, 1171, 1086, 1119, 1123, 1098, 1043, 1142, 1119, 1104, 1105, 1112, 1104, 1269, 1305, 1061, 1084, 1133, 728, 706, 663, 653, 687, 728, 1053, 1062, 785, 623, 749, 712, 458, 704, 821, 1018, 586, 626, 492, 594, 716, 716, 981, 530, 479, 511, 665, 610, 543, 1002, 569, 330, 1112, 1105, 1249, 1195, 1245, 1191, 1173, 1201, 1146, 1302, 1174, 1129, 1236, 1280, 1293, 1358, 1364, 1395, 1206, 1400, 1306, 1204, 1388, 1206, 1236, 1121, 1193, 1295, 1150, 1140, 830, 964, 676, 705, 720, 968, 508, 678, 648, 1011, 761, 781, 591, 584, 653, 732, 623, 764, 2, 1061, 1028, 1109, 992, 1087, 1272, 1122, 1051, 1035, 1057, 1028, 1077, 1203, 1081, 1124, 1197, 1192, 1191, 1167, 1219, 1099, 1070, 1020, 1093, 1065, 1302, 1068, 1095, 1067, 1121, 720, 1160, 1045, 1039, 1105, 1084, 1105, 1070, 1064, 1148, 1037, 1234, 1115, 1127, 1024, 1083, 1057, 1055, 1038, 1119, 842, 777, 754, 801, 644, 663, 600, 605, 738, 845, 712, 731, 724, 660, 781, 797, 714, 804, 744, 687, 691, 713, 594, 852, 680, 676, 703, 688, 1159, 676, 13, 712, 1440, 1437, 1299, 1222, 1438, 1438, 1440, 1440, 1440, 1440, 1440, 1440, 1440, 1440, 1440, 1440, 1440, 1440, 1440, 1350, 950, 531, 916, 855, 1256, 775, 1225, 774, 1296, 721, 1276, 1280, 1440, 873, 1440, 1234, 589, 752, 724, 1363, 824, 604, 671, 1265, 709, 546, 692, 544, 649, 680, 552, 624, 695, 836, 585, 669, 1106, 957, 692, 586, 603, 490, 555, 574, 0, 1440, 1275, 945, 837, 609, 721, 1017, 704, 696, 853, 945, 749, 584, 1054, 673, 684, 878, 1175, 537, 579, 935, 984, 632, 896, 1100, 508, 576, 1020, 648, 858, 825, 787, 840, 717, 711, 716, 1219, 1247, 895, 841, 756, 706, 1239, 1196, 916, 839, 839, 762, 1106, 797, 741, 667, 725, 897, 734, 809, 866, 733, 641, 783, 622, 380, 1122, 1287, 1161, 1131, 1112, 1110, 1080, 1182, 1218, 844, 1122, 1122, 1045, 993, 1062, 1087, 985, 1096, 1111, 1121, 1057, 1172, 1188, 1048, 1238, 1116, 1019, 1065, 1191, 1081, 736, 718, 777, 772, 944, 556, 437, 890, 757, 717, 901, 1341, 469, 542, 730, 765, 733, 738, 692, 728, 1440, 1131, 729, 757, 745, 682, 577, 1019, 746, 701, 784, 241, 767, 647, 693, 689, 521, 943, 622, 756, 598, 801, 781, 443, 582, 732, 750, 745, 727, 709, 506, 436, 724, 812, 651, 692, 761, 902, 505, 667, 707, 628, 222, 728, 776, 662, 695, 472, 525, 623, 733, 773, 670, 823, 627, 425, 743, 759, 773, 692, 739, 621, 499, 732, 580, 631, 1153, 1304, 1440, 1440, 1099, 639, 257, 1440, 1440, 1440, 921, 502, 702, 759, 425, 587, 579, 413, 468, 711, 1440, 1077, 417, 758, 479, 1040, 525, 1204, 1440, 1279, 479, 673, 456, 517, 125, 1241, 1090, 1077, 1112, 1182, 1172, 1169, 1119, 1182, 1440, 1138, 1407, 1182, 1180, 1440, 1153, 1185, 1440, 1116, 1055, 1172, 1200, 1168, 1201, 1135, 1213, 1189, 800, 1440, 1440, 1053, 863, 976, 1377, 1392, 1233, 1440, 1079, 1440, 1420, 1440, 1400, 1302, 1321, 1440, 1410, 1440, 1344, 1347, 1440, 1439, 1440, 1440, 1318, 551, 796, 548, 862, 837, 741, 634, 689, 659, 639, 708, 659, 484, 720, 637, 680, 697, 621, 645, 731, 722, 655, 654, 683, 591, 717, 745, 709, 607, 626, 709, 127, 1024, 1101, 1096, 1238, 1155, 1135, 1077, 1066, 1000, 1049, 1065, 1190, 1021, 986, 978, 1041, 1007, 961, 1240, 1142, 1112, 1021, 1440, 1047, 1136, 111, 745, 744, 787, 864, 1437, 1440, 1136, 671, 797, 758, 762, 1350, 566, 706, 726, 829, 810, 1198, 584, 685, 737, 761, 843, 1253, 834, 621, 695, 743, 1182, 757, 343, 1193, 1177, 1123, 1142, 1255, 1113, 1137, 1152, 695, 1164, 1260, 741, 1096, 1104, 1182, 1187, 1188, 1215, 1281, 1389, 1345, 1166, 1220, 1208, 1245, 1076, 1073, 1214, 1219, 1189, 839, 1244, 1298, 1362, 1335, 1268, 1237, 1278, 1276, 1201, 1199, 1320, 1193, 1313, 1261, 1299, 1286, 1393, 1257, 1440, 723, 680, 699, 729, 563, 599, 720, 737, 763, 677, 769, 740, 734, 692, 593, 676, 711, 767, 780, 669, 802, 822, 680, 764, 831, 851, 621, 772, 840, 763, 433, 1237, 1252, 1306, 1375, 1440, 1440, 1309, 1257, 1246, 1229, 1170, 1151, 1188, 1294, 1134, 1229, 1209, 1069, 1093, 1311, 1440, 1440, 1440, 1370, 1250, 1190, 1183, 1260, 1226, 1106, 1440, 831, 806, 853, 937, 1428, 1440, 1440, 1440, 744, 1431, 817, 795, 1410, 1440, 1360, 900, 714, 634, 749, 834, 916, 739, 848, 1440, 1440, 1440, 1440, 1440, 48, 1036, 1098, 1061, 1052, 888, 1060, 1215, 1131, 1123, 1119, 1141, 1032, 1148, 1101, 1157, 1104, 1143, 1207, 1089, 1226, 1335, 1189, 1154, 1170, 1095, 1036, 1174, 1131, 1187, 1127, 770], \"xaxis\": \"x\", \"y\": [13162, 10735, 10460, 9762, 12669, 9705, 13019, 15506, 10544, 9819, 12764, 14371, 10039, 15355, 13755, 18134, 13154, 11181, 14673, 10602, 14727, 15103, 11100, 14070, 12159, 11992, 10060, 12022, 12207, 12770, 0, 8163, 7007, 9107, 1510, 5370, 6175, 10536, 2916, 4974, 6349, 4026, 8538, 6076, 6497, 2826, 8367, 2759, 2390, 6474, 36019, 7155, 2100, 2193, 2470, 1727, 2104, 3427, 1732, 2969, 3134, 2971, 10694, 8001, 11037, 5263, 15300, 8757, 7132, 11256, 2436, 1223, 3673, 6637, 3321, 3580, 9919, 3032, 9405, 3176, 18213, 6132, 3758, 12850, 2309, 4363, 9787, 13372, 6724, 6643, 9167, 1329, 6697, 4929, 7937, 3844, 3414, 4525, 4597, 197, 8, 8054, 5372, 3570, 0, 0, 0, 4, 6907, 4920, 4014, 2573, 0, 4059, 2080, 2237, 44, 0, 0, 0, 0, 0, 0, 678, 356, 2163, 980, 0, 0, 244, 0, 0, 0, 149, 2945, 2090, 152, 3761, 0, 1675, 0, 0, 2704, 3790, 1326, 1786, 0, 2091, 1510, 0, 0, 0, 0, 0, 11875, 12024, 10690, 11034, 10100, 15112, 14131, 11548, 15112, 12453, 12954, 6001, 13481, 11369, 10119, 10159, 10140, 10245, 18387, 10538, 10379, 12183, 11768, 11895, 10227, 6708, 3292, 13379, 12798, 13272, 9117, 4414, 4993, 3335, 3821, 2547, 838, 3325, 2424, 7222, 2467, 2915, 12357, 3490, 6017, 5933, 6088, 6375, 7604, 4729, 3609, 7018, 5992, 6564, 12167, 8198, 4193, 5528, 10685, 254, 8580, 8891, 10725, 7275, 3973, 5205, 5057, 6198, 6559, 5997, 7192, 3404, 5583, 5079, 4165, 3588, 3409, 1715, 1532, 924, 4571, 772, 3634, 7443, 1201, 5202, 4878, 7379, 5161, 3090, 6227, 6424, 2661, 10113, 10352, 10129, 10465, 22244, 5472, 8247, 6711, 10999, 10080, 7804, 16901, 9471, 9482, 5980, 11423, 5439, 42, 8796, 7618, 7910, 8482, 9685, 2524, 7762, 7948, 9202, 8859, 7286, 9317, 6873, 7373, 8242, 3516, 7913, 7365, 8452, 7399, 7525, 7412, 8278, 8314, 7063, 4940, 8168, 7726, 8275, 6440, 7566, 4747, 9715, 8844, 7451, 6905, 8199, 6798, 7711, 4880, 8857, 3843, 7396, 6731, 5995, 8283, 7904, 5512, 9135, 5250, 3077, 8856, 10035, 7641, 9010, 13459, 10415, 11663, 12414, 11658, 6093, 8911, 12058, 14112, 11177, 11388, 7193, 7114, 10645, 13238, 10414, 16520, 14335, 13559, 12312, 11677, 11550, 13585, 14687, 13072, 746, 8539, 0, 108, 1882, 1982, 16, 62, 0, 0, 0, 0, 0, 0, 0, 0, 0, 0, 0, 0, 0, 475, 4496, 10252, 11728, 4369, 6132, 5862, 4556, 5546, 3689, 590, 5394, 5974, 0, 3984, 7753, 8204, 10210, 5664, 4744, 29, 2276, 8925, 8954, 3702, 4500, 4935, 4081, 9259, 9899, 10780, 10817, 7990, 8221, 1251, 9261, 9648, 10429, 13658, 9524, 7937, 3672, 10378, 9487, 9129, 17, 10122, 10993, 8863, 8758, 6580, 4660, 11009, 10181, 10553, 10055, 12139, 13236, 10243, 12961, 9461, 11193, 10074, 9232, 12533, 10255, 10096, 12727, 12375, 9603, 13175, 22770, 17298, 10218, 10299, 10201, 3369, 3276, 2961, 3974, 7198, 3945, 2268, 6155, 2064, 2072, 3809, 6831, 4363, 5002, 3385, 6326, 7243, 4493, 4676, 6222, 5232, 6910, 7502, 2923, 3800, 4514, 5183, 7303, 5275, 3915, 9105, 768, 5135, 4978, 6799, 7795, 7289, 9634, 8940, 5401, 4803, 13743, 9601, 6890, 8563, 8095, 9148, 9557, 9451, 7833, 10319, 3428, 7891, 5267, 5232, 10611, 3755, 8237, 6543, 11451, 6435, 9108, 6307, 7213, 6877, 7860, 6506, 11140, 12692, 9105, 6708, 8793, 6530, 1664, 15126, 15050, 9167, 6108, 7047, 9023, 9930, 10144, 0, 7245, 9454, 8161, 8614, 6943, 14370, 12857, 8232, 10613, 9810, 2752, 11596, 4832, 17022, 16556, 5771, 655, 3727, 15482, 2713, 12346, 11682, 4112, 1807, 10946, 11886, 10538, 11393, 12764, 1202, 5164, 9769, 12848, 4249, 14331, 9632, 1868, 6083, 11611, 16358, 4926, 3121, 8135, 5077, 8596, 12087, 14269, 12231, 9893, 12574, 8330, 10830, 9172, 7638, 15764, 6393, 5325, 6805, 9841, 7924, 12363, 13368, 7439, 11045, 5206, 7550, 4950, 0, 0, 3421, 8869, 4038, 0, 0, 0, 14019, 14450, 7150, 5153, 11135, 10449, 19542, 8206, 11495, 7623, 0, 9543, 9411, 3403, 9592, 6987, 8915, 4933, 0, 2997, 9799, 3365, 7336, 7328, 4477, 4562, 7142, 7671, 9501, 8301, 7851, 6885, 7142, 6361, 0, 6238, 0, 5896, 7802, 0, 5565, 5731, 0, 6744, 9837, 6781, 6047, 5832, 6339, 6116, 5510, 7706, 6277, 0, 0, 4053, 5162, 1282, 4732, 2497, 8294, 0, 10771, 0, 637, 0, 2153, 6474, 7091, 0, 703, 0, 2503, 2487, 0, 9, 0, 0, 4697, 1967, 10199, 5652, 1551, 5563, 13217, 10145, 11404, 10742, 13928, 11835, 10725, 20031, 5029, 13239, 10433, 10320, 12627, 10762, 10081, 5454, 12912, 12109, 10147, 10524, 5908, 6815, 4188, 12342, 15448, 6722, 3587, 14172, 12862, 11179, 5273, 4631, 8059, 14816, 14194, 15566, 13744, 15299, 8093, 11085, 18229, 15090, 13541, 15128, 20067, 3761, 5600, 13041, 14510, 0, 15010, 11459, 0, 11317, 5813, 9123, 8585, 31, 0, 9827, 10688, 14365, 9469, 9753, 2817, 3520, 10091, 10387, 11107, 11584, 7881, 14560, 12390, 10052, 10288, 10988, 8564, 12461, 12827, 10677, 13566, 14433, 9572, 3789, 18060, 16433, 20159, 20669, 14549, 18827, 17076, 15929, 15108, 16057, 10520, 22359, 22988, 20500, 12685, 12422, 15447, 12315, 7135, 1170, 1969, 15484, 14581, 14990, 13953, 19769, 22026, 12465, 14810, 12209, 4998, 9033, 8053, 5234, 2672, 9256, 10204, 5151, 4212, 6466, 11268, 2824, 9282, 8905, 6829, 4562, 10232, 2718, 6260, 0, 7626, 12386, 13318, 14461, 11207, 2132, 13630, 13070, 9388, 15148, 12200, 5709, 3703, 12405, 16208, 7359, 5417, 6175, 2946, 11419, 6064, 8712, 7875, 8567, 7045, 4468, 2943, 8382, 6582, 9143, 4561, 5014, 5571, 3135, 3430, 5319, 3008, 3864, 5697, 5273, 8538, 8687, 9423, 8286, 4503, 10499, 12474, 6174, 15168, 10085, 4512, 8469, 12015, 3588, 12427, 5843, 6117, 9217, 9877, 8240, 8701, 0, 2564, 1320, 1219, 2483, 244, 0, 0, 0, 3147, 144, 4068, 5245, 400, 0, 1321, 1758, 6157, 8360, 7174, 1619, 1831, 2421, 2283, 0, 0, 0, 0, 0, 0, 23186, 15337, 21129, 13422, 29326, 15118, 11423, 18785, 19948, 19377, 18258, 11200, 16674, 12986, 11101, 23629, 14890, 9733, 27745, 10930, 4790, 10818, 18193, 14055, 21727, 12332, 10686, 20226, 10733, 21420, 8064], \"yaxis\": \"y\"}],\n",
              "                        {\"legend\": {\"tracegroupgap\": 0}, \"margin\": {\"t\": 60}, \"template\": {\"data\": {\"bar\": [{\"error_x\": {\"color\": \"#2a3f5f\"}, \"error_y\": {\"color\": \"#2a3f5f\"}, \"marker\": {\"line\": {\"color\": \"#E5ECF6\", \"width\": 0.5}}, \"type\": \"bar\"}], \"barpolar\": [{\"marker\": {\"line\": {\"color\": \"#E5ECF6\", \"width\": 0.5}}, \"type\": \"barpolar\"}], \"carpet\": [{\"aaxis\": {\"endlinecolor\": \"#2a3f5f\", \"gridcolor\": \"white\", \"linecolor\": \"white\", \"minorgridcolor\": \"white\", \"startlinecolor\": \"#2a3f5f\"}, \"baxis\": {\"endlinecolor\": \"#2a3f5f\", \"gridcolor\": \"white\", \"linecolor\": \"white\", \"minorgridcolor\": \"white\", \"startlinecolor\": \"#2a3f5f\"}, \"type\": \"carpet\"}], \"choropleth\": [{\"colorbar\": {\"outlinewidth\": 0, \"ticks\": \"\"}, \"type\": \"choropleth\"}], \"contour\": [{\"colorbar\": {\"outlinewidth\": 0, \"ticks\": \"\"}, \"colorscale\": [[0.0, \"#0d0887\"], [0.1111111111111111, \"#46039f\"], [0.2222222222222222, \"#7201a8\"], [0.3333333333333333, \"#9c179e\"], [0.4444444444444444, \"#bd3786\"], [0.5555555555555556, \"#d8576b\"], [0.6666666666666666, \"#ed7953\"], [0.7777777777777778, \"#fb9f3a\"], [0.8888888888888888, \"#fdca26\"], [1.0, \"#f0f921\"]], \"type\": \"contour\"}], \"contourcarpet\": [{\"colorbar\": {\"outlinewidth\": 0, \"ticks\": \"\"}, \"type\": \"contourcarpet\"}], \"heatmap\": [{\"colorbar\": {\"outlinewidth\": 0, \"ticks\": \"\"}, \"colorscale\": [[0.0, \"#0d0887\"], [0.1111111111111111, \"#46039f\"], [0.2222222222222222, \"#7201a8\"], [0.3333333333333333, \"#9c179e\"], [0.4444444444444444, \"#bd3786\"], [0.5555555555555556, \"#d8576b\"], [0.6666666666666666, \"#ed7953\"], [0.7777777777777778, \"#fb9f3a\"], [0.8888888888888888, \"#fdca26\"], [1.0, \"#f0f921\"]], \"type\": \"heatmap\"}], \"heatmapgl\": [{\"colorbar\": {\"outlinewidth\": 0, \"ticks\": \"\"}, \"colorscale\": [[0.0, \"#0d0887\"], [0.1111111111111111, \"#46039f\"], [0.2222222222222222, \"#7201a8\"], [0.3333333333333333, \"#9c179e\"], [0.4444444444444444, \"#bd3786\"], [0.5555555555555556, \"#d8576b\"], [0.6666666666666666, \"#ed7953\"], [0.7777777777777778, \"#fb9f3a\"], [0.8888888888888888, \"#fdca26\"], [1.0, \"#f0f921\"]], \"type\": \"heatmapgl\"}], \"histogram\": [{\"marker\": {\"colorbar\": {\"outlinewidth\": 0, \"ticks\": \"\"}}, \"type\": \"histogram\"}], \"histogram2d\": [{\"colorbar\": {\"outlinewidth\": 0, \"ticks\": \"\"}, \"colorscale\": [[0.0, \"#0d0887\"], [0.1111111111111111, \"#46039f\"], [0.2222222222222222, \"#7201a8\"], [0.3333333333333333, \"#9c179e\"], [0.4444444444444444, \"#bd3786\"], [0.5555555555555556, \"#d8576b\"], [0.6666666666666666, \"#ed7953\"], [0.7777777777777778, \"#fb9f3a\"], [0.8888888888888888, \"#fdca26\"], [1.0, \"#f0f921\"]], \"type\": \"histogram2d\"}], \"histogram2dcontour\": [{\"colorbar\": {\"outlinewidth\": 0, \"ticks\": \"\"}, \"colorscale\": [[0.0, \"#0d0887\"], [0.1111111111111111, \"#46039f\"], [0.2222222222222222, \"#7201a8\"], [0.3333333333333333, \"#9c179e\"], [0.4444444444444444, \"#bd3786\"], [0.5555555555555556, \"#d8576b\"], [0.6666666666666666, \"#ed7953\"], [0.7777777777777778, \"#fb9f3a\"], [0.8888888888888888, \"#fdca26\"], [1.0, \"#f0f921\"]], \"type\": \"histogram2dcontour\"}], \"mesh3d\": [{\"colorbar\": {\"outlinewidth\": 0, \"ticks\": \"\"}, \"type\": \"mesh3d\"}], \"parcoords\": [{\"line\": {\"colorbar\": {\"outlinewidth\": 0, \"ticks\": \"\"}}, \"type\": \"parcoords\"}], \"pie\": [{\"automargin\": true, \"type\": \"pie\"}], \"scatter\": [{\"marker\": {\"colorbar\": {\"outlinewidth\": 0, \"ticks\": \"\"}}, \"type\": \"scatter\"}], \"scatter3d\": [{\"line\": {\"colorbar\": {\"outlinewidth\": 0, \"ticks\": \"\"}}, \"marker\": {\"colorbar\": {\"outlinewidth\": 0, \"ticks\": \"\"}}, \"type\": \"scatter3d\"}], \"scattercarpet\": [{\"marker\": {\"colorbar\": {\"outlinewidth\": 0, \"ticks\": \"\"}}, \"type\": \"scattercarpet\"}], \"scattergeo\": [{\"marker\": {\"colorbar\": {\"outlinewidth\": 0, \"ticks\": \"\"}}, \"type\": \"scattergeo\"}], \"scattergl\": [{\"marker\": {\"colorbar\": {\"outlinewidth\": 0, \"ticks\": \"\"}}, \"type\": \"scattergl\"}], \"scattermapbox\": [{\"marker\": {\"colorbar\": {\"outlinewidth\": 0, \"ticks\": \"\"}}, \"type\": \"scattermapbox\"}], \"scatterpolar\": [{\"marker\": {\"colorbar\": {\"outlinewidth\": 0, \"ticks\": \"\"}}, \"type\": \"scatterpolar\"}], \"scatterpolargl\": [{\"marker\": {\"colorbar\": {\"outlinewidth\": 0, \"ticks\": \"\"}}, \"type\": \"scatterpolargl\"}], \"scatterternary\": [{\"marker\": {\"colorbar\": {\"outlinewidth\": 0, \"ticks\": \"\"}}, \"type\": \"scatterternary\"}], \"surface\": [{\"colorbar\": {\"outlinewidth\": 0, \"ticks\": \"\"}, \"colorscale\": [[0.0, \"#0d0887\"], [0.1111111111111111, \"#46039f\"], [0.2222222222222222, \"#7201a8\"], [0.3333333333333333, \"#9c179e\"], [0.4444444444444444, \"#bd3786\"], [0.5555555555555556, \"#d8576b\"], [0.6666666666666666, \"#ed7953\"], [0.7777777777777778, \"#fb9f3a\"], [0.8888888888888888, \"#fdca26\"], [1.0, \"#f0f921\"]], \"type\": \"surface\"}], \"table\": [{\"cells\": {\"fill\": {\"color\": \"#EBF0F8\"}, \"line\": {\"color\": \"white\"}}, \"header\": {\"fill\": {\"color\": \"#C8D4E3\"}, \"line\": {\"color\": \"white\"}}, \"type\": \"table\"}]}, \"layout\": {\"annotationdefaults\": {\"arrowcolor\": \"#2a3f5f\", \"arrowhead\": 0, \"arrowwidth\": 1}, \"coloraxis\": {\"colorbar\": {\"outlinewidth\": 0, \"ticks\": \"\"}}, \"colorscale\": {\"diverging\": [[0, \"#8e0152\"], [0.1, \"#c51b7d\"], [0.2, \"#de77ae\"], [0.3, \"#f1b6da\"], [0.4, \"#fde0ef\"], [0.5, \"#f7f7f7\"], [0.6, \"#e6f5d0\"], [0.7, \"#b8e186\"], [0.8, \"#7fbc41\"], [0.9, \"#4d9221\"], [1, \"#276419\"]], \"sequential\": [[0.0, \"#0d0887\"], [0.1111111111111111, \"#46039f\"], [0.2222222222222222, \"#7201a8\"], [0.3333333333333333, \"#9c179e\"], [0.4444444444444444, \"#bd3786\"], [0.5555555555555556, \"#d8576b\"], [0.6666666666666666, \"#ed7953\"], [0.7777777777777778, \"#fb9f3a\"], [0.8888888888888888, \"#fdca26\"], [1.0, \"#f0f921\"]], \"sequentialminus\": [[0.0, \"#0d0887\"], [0.1111111111111111, \"#46039f\"], [0.2222222222222222, \"#7201a8\"], [0.3333333333333333, \"#9c179e\"], [0.4444444444444444, \"#bd3786\"], [0.5555555555555556, \"#d8576b\"], [0.6666666666666666, \"#ed7953\"], [0.7777777777777778, \"#fb9f3a\"], [0.8888888888888888, \"#fdca26\"], [1.0, \"#f0f921\"]]}, \"colorway\": [\"#636efa\", \"#EF553B\", \"#00cc96\", \"#ab63fa\", \"#FFA15A\", \"#19d3f3\", \"#FF6692\", \"#B6E880\", \"#FF97FF\", \"#FECB52\"], \"font\": {\"color\": \"#2a3f5f\"}, \"geo\": {\"bgcolor\": \"white\", \"lakecolor\": \"white\", \"landcolor\": \"#E5ECF6\", \"showlakes\": true, \"showland\": true, \"subunitcolor\": \"white\"}, \"hoverlabel\": {\"align\": \"left\"}, \"hovermode\": \"closest\", \"mapbox\": {\"style\": \"light\"}, \"paper_bgcolor\": \"white\", \"plot_bgcolor\": \"#E5ECF6\", \"polar\": {\"angularaxis\": {\"gridcolor\": \"white\", \"linecolor\": \"white\", \"ticks\": \"\"}, \"bgcolor\": \"#E5ECF6\", \"radialaxis\": {\"gridcolor\": \"white\", \"linecolor\": \"white\", \"ticks\": \"\"}}, \"scene\": {\"xaxis\": {\"backgroundcolor\": \"#E5ECF6\", \"gridcolor\": \"white\", \"gridwidth\": 2, \"linecolor\": \"white\", \"showbackground\": true, \"ticks\": \"\", \"zerolinecolor\": \"white\"}, \"yaxis\": {\"backgroundcolor\": \"#E5ECF6\", \"gridcolor\": \"white\", \"gridwidth\": 2, \"linecolor\": \"white\", \"showbackground\": true, \"ticks\": \"\", \"zerolinecolor\": \"white\"}, \"zaxis\": {\"backgroundcolor\": \"#E5ECF6\", \"gridcolor\": \"white\", \"gridwidth\": 2, \"linecolor\": \"white\", \"showbackground\": true, \"ticks\": \"\", \"zerolinecolor\": \"white\"}}, \"shapedefaults\": {\"line\": {\"color\": \"#2a3f5f\"}}, \"ternary\": {\"aaxis\": {\"gridcolor\": \"white\", \"linecolor\": \"white\", \"ticks\": \"\"}, \"baxis\": {\"gridcolor\": \"white\", \"linecolor\": \"white\", \"ticks\": \"\"}, \"bgcolor\": \"#E5ECF6\", \"caxis\": {\"gridcolor\": \"white\", \"linecolor\": \"white\", \"ticks\": \"\"}}, \"title\": {\"x\": 0.05}, \"xaxis\": {\"automargin\": true, \"gridcolor\": \"white\", \"linecolor\": \"white\", \"ticks\": \"\", \"title\": {\"standoff\": 15}, \"zerolinecolor\": \"white\", \"zerolinewidth\": 2}, \"yaxis\": {\"automargin\": true, \"gridcolor\": \"white\", \"linecolor\": \"white\", \"ticks\": \"\", \"title\": {\"standoff\": 15}, \"zerolinecolor\": \"white\", \"zerolinewidth\": 2}}}, \"xaxis\": {\"anchor\": \"y\", \"domain\": [0.0, 1.0], \"title\": {\"text\": \"SedentaryMinutes\"}}, \"yaxis\": {\"anchor\": \"x\", \"domain\": [0.0, 1.0], \"title\": {\"text\": \"TotalSteps\"}}},\n",
              "                        {\"responsive\": true}\n",
              "                    ).then(function(){\n",
              "                            \n",
              "var gd = document.getElementById('7189bb3b-ec80-4aaa-8897-243fe3afd9e7');\n",
              "var x = new MutationObserver(function (mutations, observer) {{\n",
              "        var display = window.getComputedStyle(gd).display;\n",
              "        if (!display || display === 'none') {{\n",
              "            console.log([gd, 'removed!']);\n",
              "            Plotly.purge(gd);\n",
              "            observer.disconnect();\n",
              "        }}\n",
              "}});\n",
              "\n",
              "// Listen for the removal of the full notebook cells\n",
              "var notebookContainer = gd.closest('#notebook-container');\n",
              "if (notebookContainer) {{\n",
              "    x.observe(notebookContainer, {childList: true});\n",
              "}}\n",
              "\n",
              "// Listen for the clearing of the current output cell\n",
              "var outputEl = gd.closest('.output');\n",
              "if (outputEl) {{\n",
              "    x.observe(outputEl, {childList: true});\n",
              "}}\n",
              "\n",
              "                        })\n",
              "                };\n",
              "                \n",
              "            </script>\n",
              "        </div>\n",
              "</body>\n",
              "</html>"
            ]
          },
          "metadata": {}
        }
      ]
    },
    {
      "cell_type": "markdown",
      "metadata": {
        "id": "kDBR7K4jU4UT"
      },
      "source": [
        "As the above plot is showing no trends and from this, we can see that tracking steps for the entire date at once can be not prove useful as for the same steps, the minutes are high."
      ]
    },
    {
      "cell_type": "code",
      "metadata": {
        "colab": {
          "base_uri": "https://localhost:8080/",
          "height": 542
        },
        "id": "JAn7M2F-NACj",
        "outputId": "12757714-1483-45ce-b2b8-55c53c0e142d"
      },
      "source": [
        "px.scatter(daily_activity_df,\"TotalSteps\",\"Calories\")"
      ],
      "execution_count": 161,
      "outputs": [
        {
          "output_type": "display_data",
          "data": {
            "text/html": [
              "<html>\n",
              "<head><meta charset=\"utf-8\" /></head>\n",
              "<body>\n",
              "    <div>\n",
              "            <script src=\"https://cdnjs.cloudflare.com/ajax/libs/mathjax/2.7.5/MathJax.js?config=TeX-AMS-MML_SVG\"></script><script type=\"text/javascript\">if (window.MathJax) {MathJax.Hub.Config({SVG: {font: \"STIX-Web\"}});}</script>\n",
              "                <script type=\"text/javascript\">window.PlotlyConfig = {MathJaxConfig: 'local'};</script>\n",
              "        <script src=\"https://cdn.plot.ly/plotly-latest.min.js\"></script>    \n",
              "            <div id=\"0db04a3f-c9bc-40c5-accd-9788204e4531\" class=\"plotly-graph-div\" style=\"height:525px; width:100%;\"></div>\n",
              "            <script type=\"text/javascript\">\n",
              "                \n",
              "                    window.PLOTLYENV=window.PLOTLYENV || {};\n",
              "                    \n",
              "                if (document.getElementById(\"0db04a3f-c9bc-40c5-accd-9788204e4531\")) {\n",
              "                    Plotly.newPlot(\n",
              "                        '0db04a3f-c9bc-40c5-accd-9788204e4531',\n",
              "                        [{\"hoverlabel\": {\"namelength\": 0}, \"hovertemplate\": \"TotalSteps=%{x}<br>Calories=%{y}\", \"legendgroup\": \"\", \"marker\": {\"color\": \"#636efa\", \"symbol\": \"circle\"}, \"mode\": \"markers\", \"name\": \"\", \"showlegend\": false, \"type\": \"scatter\", \"x\": [13162, 10735, 10460, 9762, 12669, 9705, 13019, 15506, 10544, 9819, 12764, 14371, 10039, 15355, 13755, 18134, 13154, 11181, 14673, 10602, 14727, 15103, 11100, 14070, 12159, 11992, 10060, 12022, 12207, 12770, 0, 8163, 7007, 9107, 1510, 5370, 6175, 10536, 2916, 4974, 6349, 4026, 8538, 6076, 6497, 2826, 8367, 2759, 2390, 6474, 36019, 7155, 2100, 2193, 2470, 1727, 2104, 3427, 1732, 2969, 3134, 2971, 10694, 8001, 11037, 5263, 15300, 8757, 7132, 11256, 2436, 1223, 3673, 6637, 3321, 3580, 9919, 3032, 9405, 3176, 18213, 6132, 3758, 12850, 2309, 4363, 9787, 13372, 6724, 6643, 9167, 1329, 6697, 4929, 7937, 3844, 3414, 4525, 4597, 197, 8, 8054, 5372, 3570, 0, 0, 0, 4, 6907, 4920, 4014, 2573, 0, 4059, 2080, 2237, 44, 0, 0, 0, 0, 0, 0, 678, 356, 2163, 980, 0, 0, 244, 0, 0, 0, 149, 2945, 2090, 152, 3761, 0, 1675, 0, 0, 2704, 3790, 1326, 1786, 0, 2091, 1510, 0, 0, 0, 0, 0, 11875, 12024, 10690, 11034, 10100, 15112, 14131, 11548, 15112, 12453, 12954, 6001, 13481, 11369, 10119, 10159, 10140, 10245, 18387, 10538, 10379, 12183, 11768, 11895, 10227, 6708, 3292, 13379, 12798, 13272, 9117, 4414, 4993, 3335, 3821, 2547, 838, 3325, 2424, 7222, 2467, 2915, 12357, 3490, 6017, 5933, 6088, 6375, 7604, 4729, 3609, 7018, 5992, 6564, 12167, 8198, 4193, 5528, 10685, 254, 8580, 8891, 10725, 7275, 3973, 5205, 5057, 6198, 6559, 5997, 7192, 3404, 5583, 5079, 4165, 3588, 3409, 1715, 1532, 924, 4571, 772, 3634, 7443, 1201, 5202, 4878, 7379, 5161, 3090, 6227, 6424, 2661, 10113, 10352, 10129, 10465, 22244, 5472, 8247, 6711, 10999, 10080, 7804, 16901, 9471, 9482, 5980, 11423, 5439, 42, 8796, 7618, 7910, 8482, 9685, 2524, 7762, 7948, 9202, 8859, 7286, 9317, 6873, 7373, 8242, 3516, 7913, 7365, 8452, 7399, 7525, 7412, 8278, 8314, 7063, 4940, 8168, 7726, 8275, 6440, 7566, 4747, 9715, 8844, 7451, 6905, 8199, 6798, 7711, 4880, 8857, 3843, 7396, 6731, 5995, 8283, 7904, 5512, 9135, 5250, 3077, 8856, 10035, 7641, 9010, 13459, 10415, 11663, 12414, 11658, 6093, 8911, 12058, 14112, 11177, 11388, 7193, 7114, 10645, 13238, 10414, 16520, 14335, 13559, 12312, 11677, 11550, 13585, 14687, 13072, 746, 8539, 0, 108, 1882, 1982, 16, 62, 0, 0, 0, 0, 0, 0, 0, 0, 0, 0, 0, 0, 0, 475, 4496, 10252, 11728, 4369, 6132, 5862, 4556, 5546, 3689, 590, 5394, 5974, 0, 3984, 7753, 8204, 10210, 5664, 4744, 29, 2276, 8925, 8954, 3702, 4500, 4935, 4081, 9259, 9899, 10780, 10817, 7990, 8221, 1251, 9261, 9648, 10429, 13658, 9524, 7937, 3672, 10378, 9487, 9129, 17, 10122, 10993, 8863, 8758, 6580, 4660, 11009, 10181, 10553, 10055, 12139, 13236, 10243, 12961, 9461, 11193, 10074, 9232, 12533, 10255, 10096, 12727, 12375, 9603, 13175, 22770, 17298, 10218, 10299, 10201, 3369, 3276, 2961, 3974, 7198, 3945, 2268, 6155, 2064, 2072, 3809, 6831, 4363, 5002, 3385, 6326, 7243, 4493, 4676, 6222, 5232, 6910, 7502, 2923, 3800, 4514, 5183, 7303, 5275, 3915, 9105, 768, 5135, 4978, 6799, 7795, 7289, 9634, 8940, 5401, 4803, 13743, 9601, 6890, 8563, 8095, 9148, 9557, 9451, 7833, 10319, 3428, 7891, 5267, 5232, 10611, 3755, 8237, 6543, 11451, 6435, 9108, 6307, 7213, 6877, 7860, 6506, 11140, 12692, 9105, 6708, 8793, 6530, 1664, 15126, 15050, 9167, 6108, 7047, 9023, 9930, 10144, 0, 7245, 9454, 8161, 8614, 6943, 14370, 12857, 8232, 10613, 9810, 2752, 11596, 4832, 17022, 16556, 5771, 655, 3727, 15482, 2713, 12346, 11682, 4112, 1807, 10946, 11886, 10538, 11393, 12764, 1202, 5164, 9769, 12848, 4249, 14331, 9632, 1868, 6083, 11611, 16358, 4926, 3121, 8135, 5077, 8596, 12087, 14269, 12231, 9893, 12574, 8330, 10830, 9172, 7638, 15764, 6393, 5325, 6805, 9841, 7924, 12363, 13368, 7439, 11045, 5206, 7550, 4950, 0, 0, 3421, 8869, 4038, 0, 0, 0, 14019, 14450, 7150, 5153, 11135, 10449, 19542, 8206, 11495, 7623, 0, 9543, 9411, 3403, 9592, 6987, 8915, 4933, 0, 2997, 9799, 3365, 7336, 7328, 4477, 4562, 7142, 7671, 9501, 8301, 7851, 6885, 7142, 6361, 0, 6238, 0, 5896, 7802, 0, 5565, 5731, 0, 6744, 9837, 6781, 6047, 5832, 6339, 6116, 5510, 7706, 6277, 0, 0, 4053, 5162, 1282, 4732, 2497, 8294, 0, 10771, 0, 637, 0, 2153, 6474, 7091, 0, 703, 0, 2503, 2487, 0, 9, 0, 0, 4697, 1967, 10199, 5652, 1551, 5563, 13217, 10145, 11404, 10742, 13928, 11835, 10725, 20031, 5029, 13239, 10433, 10320, 12627, 10762, 10081, 5454, 12912, 12109, 10147, 10524, 5908, 6815, 4188, 12342, 15448, 6722, 3587, 14172, 12862, 11179, 5273, 4631, 8059, 14816, 14194, 15566, 13744, 15299, 8093, 11085, 18229, 15090, 13541, 15128, 20067, 3761, 5600, 13041, 14510, 0, 15010, 11459, 0, 11317, 5813, 9123, 8585, 31, 0, 9827, 10688, 14365, 9469, 9753, 2817, 3520, 10091, 10387, 11107, 11584, 7881, 14560, 12390, 10052, 10288, 10988, 8564, 12461, 12827, 10677, 13566, 14433, 9572, 3789, 18060, 16433, 20159, 20669, 14549, 18827, 17076, 15929, 15108, 16057, 10520, 22359, 22988, 20500, 12685, 12422, 15447, 12315, 7135, 1170, 1969, 15484, 14581, 14990, 13953, 19769, 22026, 12465, 14810, 12209, 4998, 9033, 8053, 5234, 2672, 9256, 10204, 5151, 4212, 6466, 11268, 2824, 9282, 8905, 6829, 4562, 10232, 2718, 6260, 0, 7626, 12386, 13318, 14461, 11207, 2132, 13630, 13070, 9388, 15148, 12200, 5709, 3703, 12405, 16208, 7359, 5417, 6175, 2946, 11419, 6064, 8712, 7875, 8567, 7045, 4468, 2943, 8382, 6582, 9143, 4561, 5014, 5571, 3135, 3430, 5319, 3008, 3864, 5697, 5273, 8538, 8687, 9423, 8286, 4503, 10499, 12474, 6174, 15168, 10085, 4512, 8469, 12015, 3588, 12427, 5843, 6117, 9217, 9877, 8240, 8701, 0, 2564, 1320, 1219, 2483, 244, 0, 0, 0, 3147, 144, 4068, 5245, 400, 0, 1321, 1758, 6157, 8360, 7174, 1619, 1831, 2421, 2283, 0, 0, 0, 0, 0, 0, 23186, 15337, 21129, 13422, 29326, 15118, 11423, 18785, 19948, 19377, 18258, 11200, 16674, 12986, 11101, 23629, 14890, 9733, 27745, 10930, 4790, 10818, 18193, 14055, 21727, 12332, 10686, 20226, 10733, 21420, 8064], \"xaxis\": \"x\", \"y\": [1985, 1797, 1776, 1745, 1863, 1728, 1921, 2035, 1786, 1775, 1827, 1949, 1788, 2013, 1970, 2159, 1898, 1837, 1947, 1820, 2004, 1990, 1819, 1959, 1896, 1821, 1740, 1819, 1859, 1783, 0, 1432, 1411, 1572, 1344, 1463, 1554, 1604, 1435, 1446, 1467, 1470, 1562, 1617, 1492, 1402, 1670, 1401, 1404, 1655, 2690, 1497, 1334, 1368, 1370, 1341, 1474, 1427, 1328, 1393, 1359, 1002, 3199, 2902, 3226, 2750, 3493, 3011, 2806, 3300, 2430, 2140, 2344, 2677, 2413, 2497, 3123, 2489, 3108, 2498, 3846, 2696, 2580, 3324, 2222, 2463, 3328, 3404, 2987, 3008, 2799, 1276, 2030, 1860, 2130, 1725, 1657, 1793, 1814, 1366, 1349, 2062, 1827, 1645, 1347, 1347, 1347, 1348, 1992, 1856, 1763, 1541, 1348, 1742, 1549, 1589, 1351, 1347, 1347, 1347, 1347, 1347, 665, 2220, 2151, 2383, 2221, 2064, 2063, 2111, 2063, 2063, 2064, 2093, 2499, 2324, 2100, 2638, 2063, 2351, 2063, 2064, 2411, 2505, 2195, 2338, 2063, 2383, 2229, 2063, 2063, 2063, 2063, 1383, 2390, 2601, 2312, 2525, 2177, 2782, 2770, 2489, 2897, 3158, 2638, 2069, 2529, 2470, 2793, 2463, 2296, 2611, 2732, 2380, 2473, 2752, 2649, 2609, 2498, 1995, 1848, 2709, 2797, 2544, 1853, 1459, 1521, 1431, 1444, 1373, 1214, 1419, 1356, 1667, 1370, 1399, 1916, 1401, 1576, 1595, 1593, 1649, 1692, 1506, 1447, 1690, 1604, 1658, 1926, 1736, 1491, 1555, 1869, 1141, 1698, 1364, 2124, 2003, 1696, 1801, 1724, 1852, 1905, 1811, 1922, 1610, 1851, 1804, 1725, 1654, 1632, 1481, 1473, 1410, 1779, 1403, 1613, 1878, 1426, 1780, 1742, 1972, 1821, 1630, 1899, 1903, 1125, 2344, 2038, 2010, 2133, 2670, 1882, 1944, 2346, 2198, 2048, 1946, 2629, 2187, 2095, 1861, 2194, 1854, 403, 1982, 2004, 1893, 2063, 2148, 1529, 1890, 1956, 2094, 1970, 2241, 2021, 1898, 1907, 1882, 1966, 1835, 1780, 1830, 1739, 1878, 1906, 2015, 1971, 1910, 1897, 2096, 1906, 1962, 1826, 1431, 1788, 2093, 2065, 1908, 1908, 1964, 2014, 1985, 1867, 2124, 1669, 1995, 1921, 2010, 2057, 2095, 1972, 2044, 1946, 1237, 1450, 1495, 1433, 1468, 1625, 1529, 1584, 1638, 1554, 1397, 1481, 1638, 1655, 1570, 1551, 1377, 1407, 1545, 1650, 1501, 1760, 1710, 1628, 1618, 1590, 1574, 1633, 1667, 1630, 52, 3654, 1981, 2011, 2951, 3051, 1990, 1995, 1980, 1980, 1980, 1980, 1980, 1980, 1980, 1980, 1980, 1980, 1980, 1980, 1980, 2207, 2828, 3879, 3429, 2704, 2975, 3089, 2785, 2926, 2645, 1120, 2286, 2306, 1776, 1527, 2115, 2135, 2302, 1985, 1884, 1464, 1632, 2200, 2220, 1792, 1886, 1945, 1880, 2314, 2236, 2324, 2367, 2175, 2092, 1593, 2270, 2235, 2282, 2530, 2266, 2158, 1792, 2345, 2260, 2232, 257, 2955, 3092, 2998, 3066, 3073, 2572, 3274, 3015, 3083, 3069, 3544, 3306, 2885, 3288, 2929, 3074, 2969, 2979, 3283, 2926, 3147, 3290, 3162, 2899, 3425, 4022, 3934, 3013, 3061, 2954, 1623, 2113, 2095, 2194, 2496, 2180, 1933, 2248, 1954, 1974, 2150, 2432, 2149, 2247, 2070, 2291, 2361, 2203, 2196, 2363, 2246, 2336, 2421, 2070, 2120, 2211, 2123, 2423, 2281, 2181, 2499, 1212, 1909, 1722, 1922, 2121, 1997, 2117, 2116, 1876, 1788, 2486, 2094, 2085, 2173, 2225, 2223, 2098, 2185, 1918, 2105, 1692, 2066, 1953, 1842, 2262, 1722, 1973, 2666, 2223, 1889, 2131, 1452, 2947, 2898, 2984, 2896, 3328, 3394, 3013, 2812, 3061, 2729, 2241, 3691, 3538, 3064, 2784, 2908, 3033, 3165, 3115, 2017, 2859, 3145, 3004, 3006, 2859, 3683, 3287, 2990, 3172, 3069, 1240, 2026, 1718, 2324, 2254, 1831, 1397, 1683, 2284, 1570, 2066, 2105, 1776, 1507, 2033, 2093, 1922, 1999, 2169, 1463, 1747, 1996, 2116, 1698, 2156, 1916, 1494, 1762, 2272, 2335, 1693, 741, 3405, 2551, 4022, 4005, 4274, 4552, 3625, 3501, 3192, 4018, 3329, 3152, 4392, 3374, 3088, 3294, 3580, 3544, 4501, 4546, 3014, 3795, 2755, 3004, 2643, 1819, 1819, 2489, 3841, 1665, 1496, 1496, 1496, 2865, 2828, 2225, 2018, 2606, 2536, 4900, 2409, 2651, 2305, 1497, 2450, 2576, 1879, 2560, 2275, 2361, 2044, 1496, 1902, 2636, 1838, 2469, 2250, 1248, 2560, 2905, 2952, 2896, 2783, 3171, 2766, 2839, 2701, 2060, 2796, 2664, 2703, 2771, 2060, 2743, 2687, 2060, 2843, 3327, 2725, 2671, 2718, 2682, 2806, 2613, 2712, 2175, 0, 1841, 2400, 2507, 2127, 2225, 2067, 2798, 1841, 3727, 1841, 1922, 1841, 2053, 2484, 2584, 1841, 1993, 1841, 2280, 2319, 1841, 1843, 1841, 1841, 2496, 1032, 1994, 1718, 1466, 1756, 2173, 2027, 2039, 2046, 2174, 2179, 2086, 2571, 1705, 2194, 2012, 2034, 2182, 2254, 2002, 1740, 2162, 2072, 2086, 2066, 1850, 1947, 1659, 2105, 2361, 1855, 928, 2937, 2742, 2668, 2098, 2076, 2383, 2832, 2812, 3096, 2763, 2889, 2284, 2667, 3055, 2939, 2830, 2836, 3180, 2051, 2225, 2642, 2976, 1557, 2933, 2553, 120, 2772, 2516, 2734, 2395, 1635, 1629, 2743, 2944, 2997, 2463, 2846, 1965, 2049, 2752, 2781, 2693, 2862, 2616, 2995, 2730, 2754, 2754, 2655, 2386, 2924, 2739, 2534, 2960, 2800, 2735, 1199, 3186, 3140, 3411, 3410, 2867, 3213, 3133, 3114, 3043, 3103, 2655, 3554, 3577, 3403, 2846, 2852, 3062, 2794, 2408, 1886, 1988, 3023, 2918, 2950, 2859, 3331, 3589, 2765, 2926, 2809, 1505, 2044, 1935, 1705, 1632, 1880, 2112, 1829, 1763, 1931, 2218, 1651, 2132, 1976, 1909, 1813, 2008, 1580, 1854, 0, 3635, 4079, 4163, 3666, 3363, 2572, 4157, 4092, 3787, 4236, 4044, 2908, 2741, 4005, 3763, 3061, 2884, 2982, 2660, 3369, 3491, 3784, 3110, 3783, 3644, 2799, 2685, 3721, 3586, 3788, 1976, 2650, 2654, 2443, 2505, 2693, 2439, 2536, 2668, 2647, 2883, 2944, 3012, 2889, 2547, 3093, 3142, 2757, 3513, 3164, 2596, 2894, 3212, 2516, 3266, 2683, 2810, 2940, 2947, 2846, 2804, 0, 2044, 1934, 1963, 2009, 1721, 1688, 1688, 1688, 2188, 1720, 2419, 2748, 1799, 1688, 1928, 2067, 2780, 3101, 2896, 1962, 2015, 2297, 2067, 1688, 1688, 1688, 1688, 1688, 57, 3921, 3566, 3793, 3934, 4547, 3545, 2761, 3676, 3679, 3659, 3427, 3891, 3455, 3802, 2860, 3808, 3060, 2698, 4398, 2786, 2189, 2817, 3477, 3052, 4015, 4142, 2847, 3710, 2832, 3832, 1849], \"yaxis\": \"y\"}],\n",
              "                        {\"legend\": {\"tracegroupgap\": 0}, \"margin\": {\"t\": 60}, \"template\": {\"data\": {\"bar\": [{\"error_x\": {\"color\": \"#2a3f5f\"}, \"error_y\": {\"color\": \"#2a3f5f\"}, \"marker\": {\"line\": {\"color\": \"#E5ECF6\", \"width\": 0.5}}, \"type\": \"bar\"}], \"barpolar\": [{\"marker\": {\"line\": {\"color\": \"#E5ECF6\", \"width\": 0.5}}, \"type\": \"barpolar\"}], \"carpet\": [{\"aaxis\": {\"endlinecolor\": \"#2a3f5f\", \"gridcolor\": \"white\", \"linecolor\": \"white\", \"minorgridcolor\": \"white\", \"startlinecolor\": \"#2a3f5f\"}, \"baxis\": {\"endlinecolor\": \"#2a3f5f\", \"gridcolor\": \"white\", \"linecolor\": \"white\", \"minorgridcolor\": \"white\", \"startlinecolor\": \"#2a3f5f\"}, \"type\": \"carpet\"}], \"choropleth\": [{\"colorbar\": {\"outlinewidth\": 0, \"ticks\": \"\"}, \"type\": \"choropleth\"}], \"contour\": [{\"colorbar\": {\"outlinewidth\": 0, \"ticks\": \"\"}, \"colorscale\": [[0.0, \"#0d0887\"], [0.1111111111111111, \"#46039f\"], [0.2222222222222222, \"#7201a8\"], [0.3333333333333333, \"#9c179e\"], [0.4444444444444444, \"#bd3786\"], [0.5555555555555556, \"#d8576b\"], [0.6666666666666666, \"#ed7953\"], [0.7777777777777778, \"#fb9f3a\"], [0.8888888888888888, \"#fdca26\"], [1.0, \"#f0f921\"]], \"type\": \"contour\"}], \"contourcarpet\": [{\"colorbar\": {\"outlinewidth\": 0, \"ticks\": \"\"}, \"type\": \"contourcarpet\"}], \"heatmap\": [{\"colorbar\": {\"outlinewidth\": 0, \"ticks\": \"\"}, \"colorscale\": [[0.0, \"#0d0887\"], [0.1111111111111111, \"#46039f\"], [0.2222222222222222, \"#7201a8\"], [0.3333333333333333, \"#9c179e\"], [0.4444444444444444, \"#bd3786\"], [0.5555555555555556, \"#d8576b\"], [0.6666666666666666, \"#ed7953\"], [0.7777777777777778, \"#fb9f3a\"], [0.8888888888888888, \"#fdca26\"], [1.0, \"#f0f921\"]], \"type\": \"heatmap\"}], \"heatmapgl\": [{\"colorbar\": {\"outlinewidth\": 0, \"ticks\": \"\"}, \"colorscale\": [[0.0, \"#0d0887\"], [0.1111111111111111, \"#46039f\"], [0.2222222222222222, \"#7201a8\"], [0.3333333333333333, \"#9c179e\"], [0.4444444444444444, \"#bd3786\"], [0.5555555555555556, \"#d8576b\"], [0.6666666666666666, \"#ed7953\"], [0.7777777777777778, \"#fb9f3a\"], [0.8888888888888888, \"#fdca26\"], [1.0, \"#f0f921\"]], \"type\": \"heatmapgl\"}], \"histogram\": [{\"marker\": {\"colorbar\": {\"outlinewidth\": 0, \"ticks\": \"\"}}, \"type\": \"histogram\"}], \"histogram2d\": [{\"colorbar\": {\"outlinewidth\": 0, \"ticks\": \"\"}, \"colorscale\": [[0.0, \"#0d0887\"], [0.1111111111111111, \"#46039f\"], [0.2222222222222222, \"#7201a8\"], [0.3333333333333333, \"#9c179e\"], [0.4444444444444444, \"#bd3786\"], [0.5555555555555556, \"#d8576b\"], [0.6666666666666666, \"#ed7953\"], [0.7777777777777778, \"#fb9f3a\"], [0.8888888888888888, \"#fdca26\"], [1.0, \"#f0f921\"]], \"type\": \"histogram2d\"}], \"histogram2dcontour\": [{\"colorbar\": {\"outlinewidth\": 0, \"ticks\": \"\"}, \"colorscale\": [[0.0, \"#0d0887\"], [0.1111111111111111, \"#46039f\"], [0.2222222222222222, \"#7201a8\"], [0.3333333333333333, \"#9c179e\"], [0.4444444444444444, \"#bd3786\"], [0.5555555555555556, \"#d8576b\"], [0.6666666666666666, \"#ed7953\"], [0.7777777777777778, \"#fb9f3a\"], [0.8888888888888888, \"#fdca26\"], [1.0, \"#f0f921\"]], \"type\": \"histogram2dcontour\"}], \"mesh3d\": [{\"colorbar\": {\"outlinewidth\": 0, \"ticks\": \"\"}, \"type\": \"mesh3d\"}], \"parcoords\": [{\"line\": {\"colorbar\": {\"outlinewidth\": 0, \"ticks\": \"\"}}, \"type\": \"parcoords\"}], \"pie\": [{\"automargin\": true, \"type\": \"pie\"}], \"scatter\": [{\"marker\": {\"colorbar\": {\"outlinewidth\": 0, \"ticks\": \"\"}}, \"type\": \"scatter\"}], \"scatter3d\": [{\"line\": {\"colorbar\": {\"outlinewidth\": 0, \"ticks\": \"\"}}, \"marker\": {\"colorbar\": {\"outlinewidth\": 0, \"ticks\": \"\"}}, \"type\": \"scatter3d\"}], \"scattercarpet\": [{\"marker\": {\"colorbar\": {\"outlinewidth\": 0, \"ticks\": \"\"}}, \"type\": \"scattercarpet\"}], \"scattergeo\": [{\"marker\": {\"colorbar\": {\"outlinewidth\": 0, \"ticks\": \"\"}}, \"type\": \"scattergeo\"}], \"scattergl\": [{\"marker\": {\"colorbar\": {\"outlinewidth\": 0, \"ticks\": \"\"}}, \"type\": \"scattergl\"}], \"scattermapbox\": [{\"marker\": {\"colorbar\": {\"outlinewidth\": 0, \"ticks\": \"\"}}, \"type\": \"scattermapbox\"}], \"scatterpolar\": [{\"marker\": {\"colorbar\": {\"outlinewidth\": 0, \"ticks\": \"\"}}, \"type\": \"scatterpolar\"}], \"scatterpolargl\": [{\"marker\": {\"colorbar\": {\"outlinewidth\": 0, \"ticks\": \"\"}}, \"type\": \"scatterpolargl\"}], \"scatterternary\": [{\"marker\": {\"colorbar\": {\"outlinewidth\": 0, \"ticks\": \"\"}}, \"type\": \"scatterternary\"}], \"surface\": [{\"colorbar\": {\"outlinewidth\": 0, \"ticks\": \"\"}, \"colorscale\": [[0.0, \"#0d0887\"], [0.1111111111111111, \"#46039f\"], [0.2222222222222222, \"#7201a8\"], [0.3333333333333333, \"#9c179e\"], [0.4444444444444444, \"#bd3786\"], [0.5555555555555556, \"#d8576b\"], [0.6666666666666666, \"#ed7953\"], [0.7777777777777778, \"#fb9f3a\"], [0.8888888888888888, \"#fdca26\"], [1.0, \"#f0f921\"]], \"type\": \"surface\"}], \"table\": [{\"cells\": {\"fill\": {\"color\": \"#EBF0F8\"}, \"line\": {\"color\": \"white\"}}, \"header\": {\"fill\": {\"color\": \"#C8D4E3\"}, \"line\": {\"color\": \"white\"}}, \"type\": \"table\"}]}, \"layout\": {\"annotationdefaults\": {\"arrowcolor\": \"#2a3f5f\", \"arrowhead\": 0, \"arrowwidth\": 1}, \"coloraxis\": {\"colorbar\": {\"outlinewidth\": 0, \"ticks\": \"\"}}, \"colorscale\": {\"diverging\": [[0, \"#8e0152\"], [0.1, \"#c51b7d\"], [0.2, \"#de77ae\"], [0.3, \"#f1b6da\"], [0.4, \"#fde0ef\"], [0.5, \"#f7f7f7\"], [0.6, \"#e6f5d0\"], [0.7, \"#b8e186\"], [0.8, \"#7fbc41\"], [0.9, \"#4d9221\"], [1, \"#276419\"]], \"sequential\": [[0.0, \"#0d0887\"], [0.1111111111111111, \"#46039f\"], [0.2222222222222222, \"#7201a8\"], [0.3333333333333333, \"#9c179e\"], [0.4444444444444444, \"#bd3786\"], [0.5555555555555556, \"#d8576b\"], [0.6666666666666666, \"#ed7953\"], [0.7777777777777778, \"#fb9f3a\"], [0.8888888888888888, \"#fdca26\"], [1.0, \"#f0f921\"]], \"sequentialminus\": [[0.0, \"#0d0887\"], [0.1111111111111111, \"#46039f\"], [0.2222222222222222, \"#7201a8\"], [0.3333333333333333, \"#9c179e\"], [0.4444444444444444, \"#bd3786\"], [0.5555555555555556, \"#d8576b\"], [0.6666666666666666, \"#ed7953\"], [0.7777777777777778, \"#fb9f3a\"], [0.8888888888888888, \"#fdca26\"], [1.0, \"#f0f921\"]]}, \"colorway\": [\"#636efa\", \"#EF553B\", \"#00cc96\", \"#ab63fa\", \"#FFA15A\", \"#19d3f3\", \"#FF6692\", \"#B6E880\", \"#FF97FF\", \"#FECB52\"], \"font\": {\"color\": \"#2a3f5f\"}, \"geo\": {\"bgcolor\": \"white\", \"lakecolor\": \"white\", \"landcolor\": \"#E5ECF6\", \"showlakes\": true, \"showland\": true, \"subunitcolor\": \"white\"}, \"hoverlabel\": {\"align\": \"left\"}, \"hovermode\": \"closest\", \"mapbox\": {\"style\": \"light\"}, \"paper_bgcolor\": \"white\", \"plot_bgcolor\": \"#E5ECF6\", \"polar\": {\"angularaxis\": {\"gridcolor\": \"white\", \"linecolor\": \"white\", \"ticks\": \"\"}, \"bgcolor\": \"#E5ECF6\", \"radialaxis\": {\"gridcolor\": \"white\", \"linecolor\": \"white\", \"ticks\": \"\"}}, \"scene\": {\"xaxis\": {\"backgroundcolor\": \"#E5ECF6\", \"gridcolor\": \"white\", \"gridwidth\": 2, \"linecolor\": \"white\", \"showbackground\": true, \"ticks\": \"\", \"zerolinecolor\": \"white\"}, \"yaxis\": {\"backgroundcolor\": \"#E5ECF6\", \"gridcolor\": \"white\", \"gridwidth\": 2, \"linecolor\": \"white\", \"showbackground\": true, \"ticks\": \"\", \"zerolinecolor\": \"white\"}, \"zaxis\": {\"backgroundcolor\": \"#E5ECF6\", \"gridcolor\": \"white\", \"gridwidth\": 2, \"linecolor\": \"white\", \"showbackground\": true, \"ticks\": \"\", \"zerolinecolor\": \"white\"}}, \"shapedefaults\": {\"line\": {\"color\": \"#2a3f5f\"}}, \"ternary\": {\"aaxis\": {\"gridcolor\": \"white\", \"linecolor\": \"white\", \"ticks\": \"\"}, \"baxis\": {\"gridcolor\": \"white\", \"linecolor\": \"white\", \"ticks\": \"\"}, \"bgcolor\": \"#E5ECF6\", \"caxis\": {\"gridcolor\": \"white\", \"linecolor\": \"white\", \"ticks\": \"\"}}, \"title\": {\"x\": 0.05}, \"xaxis\": {\"automargin\": true, \"gridcolor\": \"white\", \"linecolor\": \"white\", \"ticks\": \"\", \"title\": {\"standoff\": 15}, \"zerolinecolor\": \"white\", \"zerolinewidth\": 2}, \"yaxis\": {\"automargin\": true, \"gridcolor\": \"white\", \"linecolor\": \"white\", \"ticks\": \"\", \"title\": {\"standoff\": 15}, \"zerolinecolor\": \"white\", \"zerolinewidth\": 2}}}, \"xaxis\": {\"anchor\": \"y\", \"domain\": [0.0, 1.0], \"title\": {\"text\": \"TotalSteps\"}}, \"yaxis\": {\"anchor\": \"x\", \"domain\": [0.0, 1.0], \"title\": {\"text\": \"Calories\"}}},\n",
              "                        {\"responsive\": true}\n",
              "                    ).then(function(){\n",
              "                            \n",
              "var gd = document.getElementById('0db04a3f-c9bc-40c5-accd-9788204e4531');\n",
              "var x = new MutationObserver(function (mutations, observer) {{\n",
              "        var display = window.getComputedStyle(gd).display;\n",
              "        if (!display || display === 'none') {{\n",
              "            console.log([gd, 'removed!']);\n",
              "            Plotly.purge(gd);\n",
              "            observer.disconnect();\n",
              "        }}\n",
              "}});\n",
              "\n",
              "// Listen for the removal of the full notebook cells\n",
              "var notebookContainer = gd.closest('#notebook-container');\n",
              "if (notebookContainer) {{\n",
              "    x.observe(notebookContainer, {childList: true});\n",
              "}}\n",
              "\n",
              "// Listen for the clearing of the current output cell\n",
              "var outputEl = gd.closest('.output');\n",
              "if (outputEl) {{\n",
              "    x.observe(outputEl, {childList: true});\n",
              "}}\n",
              "\n",
              "                        })\n",
              "                };\n",
              "                \n",
              "            </script>\n",
              "        </div>\n",
              "</body>\n",
              "</html>"
            ]
          },
          "metadata": {}
        }
      ]
    },
    {
      "cell_type": "markdown",
      "metadata": {
        "id": "Xq9KgdZdZwtv"
      },
      "source": [
        "### Act"
      ]
    },
    {
      "cell_type": "markdown",
      "metadata": {
        "id": "OgLsEi6p6P1t"
      },
      "source": [
        "From the analysis, we recommend the following changes :-\n",
        "\n",
        "\n",
        "1. We can encourage users to minimum walk 8000 steps a day, 20 mins exercise a day or a combination of both. For this, we can make a setting of setting daily target adjuestable by the user and gamify it by including a game of growing a pet or similar game where steps would be acting as coins which would be used for in-purchases in game to encourage more walking and exercise.\n",
        "2. To make it more interesting, they can share their scores with ther users and region leaderboards can be set up which they can view in their apps for an healthy competition. \n",
        "3. For the display of result of steps taken in a day, it can be shown in the mail or personal dashboards in an amusing way like \"Congratulations! You have taken ### steps today. You are taking a step towards saving the environment by saving ### amount of carbon/fuel emmission if you were using a vehicle. A small steps taken by you is a giant leap for saving the environment!\"<a href=\"https://www.lowa.co.uk/lovelowa/74-six-environmental-benefits-of-walking#:~:text=Research%20suggests%20choosing%20to%20walk,emissions%20by%2086kg%20a%20year.\">[Source]</a>. <br>Same can be done for exercise activities.\n",
        "4. We can encourage users by giving reminders to tick off any logged in challenges they have taken and also, keep an monthly challenge for all users on reigonal basis.\n",
        "5. As sedentary activities influence highly on calorific value, we can give alerts to users when they reach off the sedentary limit."
      ]
    },
    {
      "cell_type": "code",
      "metadata": {
        "id": "pKkmlzVjNJaj"
      },
      "source": [
        ""
      ],
      "execution_count": 160,
      "outputs": []
    },
    {
      "cell_type": "code",
      "metadata": {
        "id": "kTnFgTd-Yz8l"
      },
      "source": [
        ""
      ],
      "execution_count": 156,
      "outputs": []
    },
    {
      "cell_type": "code",
      "metadata": {
        "id": "OPHzIO4NY5F0"
      },
      "source": [
        ""
      ],
      "execution_count": null,
      "outputs": []
    }
  ]
}